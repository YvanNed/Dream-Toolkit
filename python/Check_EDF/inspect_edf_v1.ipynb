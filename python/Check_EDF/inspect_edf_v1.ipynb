{
 "cells": [
  {
   "cell_type": "markdown",
   "id": "12bcc77e-a10a-441b-b8e9-33006dd75aee",
   "metadata": {},
   "source": [
    "# Check export parameters from .edf files of an EEG database \n",
    "This notebook allows you to inspect the parameters of your .edf EEG database. \\\n",
    "It does not load and inspect the quality of your data. \\\n",
    "It helps you to identify if you need to re-export some participant's data (because of poor signal resolution or clipping, explained later), and provide information that is helpful to analyze your dataset (such as the different channel labels). \n",
    "\n",
    "---\n",
    "EDF is the European data format for storage of multichannel biological and physical signals https://www.edfplus.info/ \\\n",
    "It was first published in 1992, and an upgraded version was released in 2003 (adding discontinuous recordings handling, annotations, stimuli, and events in a UTF-8 format). \\\n",
    "It is a compressed 16-bit format, meaning that each measured data point can take 2^16 values between the min/max values that you set at the exportation. \\\n",
    "The min/max values correspond to the dynamic range of your data.\n",
    "\n",
    "---\n",
    "At the exportation in the .edf format (with software like Profusion from Compumedics), many parameters need to be set per recorded channels, such as channels' label configuration, sampling frequency, filtering, units, and dynamic range. \\\n",
    "Exporting as .edf format is tedious and time-consuming, and mistakes in parameters can easily be made.  \\\n",
    "To avoid making mistakes, there is the possibility of implementing routines within some software (insert a link on how to make a routine in Compumedics). \\\n",
    "Inspecting those parameters can also be necessary if you work on an already existing dataset, to make sure that every participant's data is exploitable, specifically if the data comes from multiple sleep clinics. \n",
    "\n",
    "---\n",
    "This notebook directly reads information from the headers of the .edf files, instead of loading the data and relying on existing packages. \\\n",
    "Existing packages, such as PYEDFLIB or MNE, are either too rigid (not able to read some data) or do not return all the information from headers (such as boundaries of dynamic range, filtering parameters, etc).\\\n",
    "\\\n",
    "To use this notebook, read each text cell (box), run its associated code cell, and read the output below.\n",
    "**The notebook will save summary tables as .tsv files (file format easy to read with Excel and to import in Python script) so that you can visually inspect (or reload later) if needed.** \\\n",
    "Those summaries will be stored in a summary folder within the study folder. \\\n",
    "\\\n",
    "\\\n",
    "It was developed on the ICEBERG database and tested on APOMORPHEE (from Noémie's internship).  \\\n",
    "last update 25/07/2025, YN"
   ]
  },
  {
   "cell_type": "markdown",
   "id": "ea3d45c0-237c-4460-9a7c-1f7e88f5c88d",
   "metadata": {},
   "source": [
    "<hr style=\"height:4px; background-color:black; border:none;\">"
   ]
  },
  {
   "cell_type": "markdown",
   "id": "316eaf2b-5591-4698-968d-5117df3f8b13",
   "metadata": {
    "jp-MarkdownHeadingCollapsed": true
   },
   "source": [
    "## 0. Import packages and define custom functions"
   ]
  },
  {
   "cell_type": "markdown",
   "id": "a80d7e8e-b926-4914-97ee-92f4b39567fc",
   "metadata": {},
   "source": [
    "If you are missing one package (getting an error when you import it), there is two solutions: \\\n",
    "1. Install within jupyter notebook:\n",
    "- run in a new cell \"%conda install nom_du_package --yes\"\n",
    "- re-run the import cell\n",
    "\n",
    "2. Install within a terminal: \n",
    "- go back to your terminal\n",
    "- enter the virtual environment you are working in (from where you installed jupyter notebook) with \"conda activate my_virtual_environment\"\n",
    "- run: \"conda install -k my_package\"\n",
    "- restart the kernel of the jupyter notebook"
   ]
  },
  {
   "cell_type": "code",
   "execution_count": 1,
   "id": "5411d73d-c71c-433d-81d2-169e69bd00ef",
   "metadata": {},
   "outputs": [],
   "source": [
    "import os\n",
    "import re\n",
    "import chardet\n",
    "import warnings\n",
    "import pandas as pd\n",
    "from pathlib import Path\n",
    "import ipywidgets as widgets\n",
    "from ipyfilechooser import FileChooser\n",
    "from IPython.display import display, HTML, clear_output\n",
    "\n",
    "# custom function to detect automatically and return the encoding of edf file (from chatGPT)\n",
    "def detect_encoding(byte_string, min_confidence=0.6):\n",
    "    result = chardet.detect(byte_string)\n",
    "    encoding = result['encoding']\n",
    "    confidence = result['confidence']\n",
    "    if encoding is None or confidence < min_confidence:\n",
    "        raise UnicodeDecodeError(\"chardet\", byte_string, 0, len(byte_string),\n",
    "                                 f\"\\tUnable to reliably detect encoding. Detected: {encoding} with confidence {confidence}\")\n",
    "    return encoding\n",
    "\n",
    "# custom function to read information from EDF headers, without using the pyedflib package (that was too strict for ICEBERG)\n",
    "# EDF file should follow a strict format dedicating specific number of octets for each type of information.\n",
    "# it means that we can read the info octect by octet by specifying the number of octet we expect for the next variable (that is known from the EDF norm)\n",
    "def read_edf_header_custom(file_path):\n",
    "    with open(file_path, 'rb') as f: # open the file in binary mode, to read octet by octet. \n",
    "        header = {}\n",
    "        # detect encoding\n",
    "        raw_header = f.read(256)\n",
    "        encoding = detect_encoding(raw_header)\n",
    "        print(f\"\\tDetected encoding for {file_path} : {encoding}\")\n",
    "        # Rewind to beginning\n",
    "        f.seek(0)\n",
    "        \n",
    "        # the first 256 octets are subject global info\n",
    "        header['version'] = f.read(8).decode(encoding).strip()\n",
    "        header['patient_id'] = f.read(80).decode(encoding).strip()\n",
    "        header['recording_id'] = f.read(80).decode(encoding).strip()\n",
    "        header['start_date'] = f.read(8).decode(encoding).strip()\n",
    "        header['start_time'] = f.read(8).decode(encoding).strip()\n",
    "        header['header_bytes'] = int(f.read(8).decode(encoding).strip())\n",
    "        header['reserved'] = f.read(44).decode(encoding).strip()\n",
    "        header['n_data_records'] = int(f.read(8).decode(encoding).strip())\n",
    "        header['duration_data_record'] = float(f.read(8).decode(encoding).strip())\n",
    "        header['n_channels'] = int(f.read(4).decode(encoding).strip())\n",
    "        \n",
    "        # get info per channel\n",
    "        n = header['n_channels']\n",
    "        channel_fields = {\n",
    "            'channel': [],\n",
    "            'transducer_type': [],\n",
    "            'dimension': [],\n",
    "            'physical_min': [],\n",
    "            'physical_max': [],\n",
    "            'digital_min': [],\n",
    "            'digital_max': [],\n",
    "            'prefiltering': [],\n",
    "            'sampling_frequency': [],\n",
    "            'reserved': [],\n",
    "        }\n",
    "\n",
    "        for key in channel_fields:\n",
    "            length = {\n",
    "                'channel': 16,\n",
    "                'transducer_type': 80,\n",
    "                'dimension': 8,\n",
    "                'physical_min': 8,\n",
    "                'physical_max': 8,\n",
    "                'digital_min': 8,\n",
    "                'digital_max': 8,\n",
    "                'prefiltering': 80,\n",
    "                'sampling_frequency': 8,\n",
    "                'reserved': 32,\n",
    "            }[key]\n",
    "            channel_fields[key] = [f.read(length).decode(encoding).strip() for _ in range(n)]\n",
    "\n",
    "        header.update(channel_fields)\n",
    "    \n",
    "    return header\n",
    "\n",
    "# function to extract filters information from the string in headers\n",
    "def extract_filter_value(s, tag):\n",
    "    if pd.isna(s):\n",
    "        return None\n",
    "    match = re.search(rf'{tag}[:\\s]*([\\d\\.]+)\\s*', s, re.IGNORECASE)\n",
    "    return float(match.group(1)) if match else None\n",
    "\n",
    "# custom function to get the sampling frequency out of a dataframe (the df needs to have 'subject' and 'channel' as column)\n",
    "def get_sf(df, subject, channel):\n",
    "    df_sf = df[(df['subject'] == subject) & (df['channel'] == channel)]\n",
    "    if not df_sf.empty:\n",
    "        return df_sf.iloc[0]['sampling_frequency']\n",
    "    else:\n",
    "        return None\n",
    "\n",
    "# function to create a widget slider to select configuration to inspect\n",
    "def mk_config_slider(value = 1, min = 1, max = 5):\n",
    "    config_slider = widgets.IntSlider(\n",
    "    value=value,\n",
    "    min=min,\n",
    "    max=max,\n",
    "    step=1,\n",
    "    description='Selected configuration:',\n",
    "    style={'description_width': '150px'},  # augmente la largeur de la description\n",
    "    layout=widgets.Layout(width='400px'),   # ajuste la taille totale du widget si besoin\n",
    "    disabled=False,\n",
    "    continuous_update=False,\n",
    "    orientation='horizontal',\n",
    "    readout=True,\n",
    "    readout_format='d'\n",
    "    )\n",
    "    return config_slider\n",
    "\n",
    "# function to print the configuration of a dataset parameter\n",
    "def print_config(i, config_dict, param):\n",
    "    # get the key and value from dictionnary\n",
    "    idx = i - 1\n",
    "    # get participant ID\n",
    "    value = list(config_dict.values())  \n",
    "    v = value[idx]  \n",
    "    # get configuration\n",
    "    key = list(config_dict.keys())\n",
    "    k = key[idx]\n",
    "    \n",
    "    # print info\n",
    "    print(f'Selected configuration: # {i}')\n",
    "    print(f'\\t{param}: {k}')\n",
    "    print(f'\\t{len(v)} participants: {v}')\n",
    "\n",
    "# function to create a scrollable box for long ouput (e.g. cell loading the data) \n",
    "def print_in_scrollable_box(text, height=300, font_size=\"12px\"):\n",
    "    display(HTML(f'<pre style=\"overflow-y:scroll; height:{height}px; border:1px solid black; padding:10px; font-size:{font_size};\">{text}</pre>'))\n"
   ]
  },
  {
   "cell_type": "markdown",
   "id": "0c657ea5-74e0-43d6-9ab2-8b6ed4a23340",
   "metadata": {},
   "source": [
    "<hr style=\"height:4px; background-color:black; border:none;\">"
   ]
  },
  {
   "cell_type": "markdown",
   "id": "71c9a604-7fe3-4a81-9e60-1587f7cb14e1",
   "metadata": {
    "jp-MarkdownHeadingCollapsed": true
   },
   "source": [
    "## 1. Select data folder and get the file list of your database\n",
    "The first cell below will open a widget to select the folder containing your data. "
   ]
  },
  {
   "cell_type": "code",
   "execution_count": 2,
   "id": "9124017c-7f30-4794-aab6-55a462a5b85c",
   "metadata": {},
   "outputs": [
    {
     "data": {
      "application/vnd.jupyter.widget-view+json": {
       "model_id": "de688b95427d4c7db21c08ee482e7394",
       "version_major": 2,
       "version_minor": 0
      },
      "text/plain": [
       "FileChooser(path='C:\\Users\\yvan.nedelec\\OneDrive - ICM\\Documents\\RE_yvan\\projects\\Dream-Toolkit\\python\\Check_E…"
      ]
     },
     "metadata": {},
     "output_type": "display_data"
    }
   ],
   "source": [
    "chooser = FileChooser(os.getcwd())\n",
    "chooser.title = \"<b>Choose your study folder</b>\"\n",
    "chooser.show_only_dirs = True\n",
    "display(chooser)"
   ]
  },
  {
   "cell_type": "code",
   "execution_count": 3,
   "id": "79170e5c-91e6-48ca-84fa-1b457eae1215",
   "metadata": {},
   "outputs": [],
   "source": [
    "folder_path = chooser.selected_path\n",
    "\n",
    "# get the edf file list \n",
    "edf_files = [\n",
    "    f for f in Path(folder_path).rglob('*.edf')\n",
    "    if not f.name.startswith('._') # don't select files starting with ._ (\n",
    "    ]\n",
    "\n",
    "# initialyse list of dataframe to store file info, that will be concatenated at the end (this is better for performance)\n",
    "df_list = []\n",
    "\n",
    "# check the existence and/or create the summary folder that will receive the summary tables and the report\n",
    "summary_path = f'{folder_path}/summary'\n",
    "if not os.path.exists(summary_path):\n",
    "    os.makedirs(summary_path)"
   ]
  },
  {
   "cell_type": "markdown",
   "id": "abe7e801-ae24-4fdd-a177-a2cbd95e4595",
   "metadata": {
    "jp-MarkdownHeadingCollapsed": true
   },
   "source": [
    "## 2. Loop over the edf file list to extract parameters from each participant"
   ]
  },
  {
   "cell_type": "code",
   "execution_count": 4,
   "id": "acb6870b-badd-4225-aaef-fc974516dee1",
   "metadata": {},
   "outputs": [
    {
     "data": {
      "text/html": [
       "<pre style=\"overflow-y:scroll; height:300px; border:1px solid black; padding:10px; font-size:12px;\">file 1/238, currently opening file: C:\\Users\\yvan.nedelec\\OneDrive - ICM\\Documents\\RE_yvan\\projects\\ICEBERG\\PSG\\EDF iRBD\\100.edf\n",
       "file 2/238, currently opening file: C:\\Users\\yvan.nedelec\\OneDrive - ICM\\Documents\\RE_yvan\\projects\\ICEBERG\\PSG\\EDF iRBD\\102.edf\n",
       "file 3/238, currently opening file: C:\\Users\\yvan.nedelec\\OneDrive - ICM\\Documents\\RE_yvan\\projects\\ICEBERG\\PSG\\EDF iRBD\\108.edf\n",
       "file 4/238, currently opening file: C:\\Users\\yvan.nedelec\\OneDrive - ICM\\Documents\\RE_yvan\\projects\\ICEBERG\\PSG\\EDF iRBD\\128.edf\n",
       "file 5/238, currently opening file: C:\\Users\\yvan.nedelec\\OneDrive - ICM\\Documents\\RE_yvan\\projects\\ICEBERG\\PSG\\EDF iRBD\\129.edf\n",
       "file 6/238, currently opening file: C:\\Users\\yvan.nedelec\\OneDrive - ICM\\Documents\\RE_yvan\\projects\\ICEBERG\\PSG\\EDF iRBD\\132.edf\n",
       "file 7/238, currently opening file: C:\\Users\\yvan.nedelec\\OneDrive - ICM\\Documents\\RE_yvan\\projects\\ICEBERG\\PSG\\EDF iRBD\\135.edf\n",
       "file 8/238, currently opening file: C:\\Users\\yvan.nedelec\\OneDrive - ICM\\Documents\\RE_yvan\\projects\\ICEBERG\\PSG\\EDF iRBD\\141.edf\n",
       "file 9/238, currently opening file: C:\\Users\\yvan.nedelec\\OneDrive - ICM\\Documents\\RE_yvan\\projects\\ICEBERG\\PSG\\EDF iRBD\\146.edf\n",
       "file 10/238, currently opening file: C:\\Users\\yvan.nedelec\\OneDrive - ICM\\Documents\\RE_yvan\\projects\\ICEBERG\\PSG\\EDF iRBD\\154.edf\n",
       "file 11/238, currently opening file: C:\\Users\\yvan.nedelec\\OneDrive - ICM\\Documents\\RE_yvan\\projects\\ICEBERG\\PSG\\EDF iRBD\\164.edf\n",
       "file 12/238, currently opening file: C:\\Users\\yvan.nedelec\\OneDrive - ICM\\Documents\\RE_yvan\\projects\\ICEBERG\\PSG\\EDF iRBD\\17.EDF\n",
       "file 13/238, currently opening file: C:\\Users\\yvan.nedelec\\OneDrive - ICM\\Documents\\RE_yvan\\projects\\ICEBERG\\PSG\\EDF iRBD\\179.edf\n",
       "file 14/238, currently opening file: C:\\Users\\yvan.nedelec\\OneDrive - ICM\\Documents\\RE_yvan\\projects\\ICEBERG\\PSG\\EDF iRBD\\180.edf\n",
       "file 15/238, currently opening file: C:\\Users\\yvan.nedelec\\OneDrive - ICM\\Documents\\RE_yvan\\projects\\ICEBERG\\PSG\\EDF iRBD\\184.edf\n",
       "file 16/238, currently opening file: C:\\Users\\yvan.nedelec\\OneDrive - ICM\\Documents\\RE_yvan\\projects\\ICEBERG\\PSG\\EDF iRBD\\197.edf\n",
       "file 17/238, currently opening file: C:\\Users\\yvan.nedelec\\OneDrive - ICM\\Documents\\RE_yvan\\projects\\ICEBERG\\PSG\\EDF iRBD\\198.edf\n",
       "file 18/238, currently opening file: C:\\Users\\yvan.nedelec\\OneDrive - ICM\\Documents\\RE_yvan\\projects\\ICEBERG\\PSG\\EDF iRBD\\199.edf\n",
       "file 19/238, currently opening file: C:\\Users\\yvan.nedelec\\OneDrive - ICM\\Documents\\RE_yvan\\projects\\ICEBERG\\PSG\\EDF iRBD\\200.edf\n",
       "file 20/238, currently opening file: C:\\Users\\yvan.nedelec\\OneDrive - ICM\\Documents\\RE_yvan\\projects\\ICEBERG\\PSG\\EDF iRBD\\201.edf\n",
       "file 21/238, currently opening file: C:\\Users\\yvan.nedelec\\OneDrive - ICM\\Documents\\RE_yvan\\projects\\ICEBERG\\PSG\\EDF iRBD\\203.edf\n",
       "file 22/238, currently opening file: C:\\Users\\yvan.nedelec\\OneDrive - ICM\\Documents\\RE_yvan\\projects\\ICEBERG\\PSG\\EDF iRBD\\204.edf\n",
       "file 23/238, currently opening file: C:\\Users\\yvan.nedelec\\OneDrive - ICM\\Documents\\RE_yvan\\projects\\ICEBERG\\PSG\\EDF iRBD\\205.edf\n",
       "file 24/238, currently opening file: C:\\Users\\yvan.nedelec\\OneDrive - ICM\\Documents\\RE_yvan\\projects\\ICEBERG\\PSG\\EDF iRBD\\206.edf\n",
       "file 25/238, currently opening file: C:\\Users\\yvan.nedelec\\OneDrive - ICM\\Documents\\RE_yvan\\projects\\ICEBERG\\PSG\\EDF iRBD\\223.edf\n",
       "file 26/238, currently opening file: C:\\Users\\yvan.nedelec\\OneDrive - ICM\\Documents\\RE_yvan\\projects\\ICEBERG\\PSG\\EDF iRBD\\229.edf\n",
       "file 27/238, currently opening file: C:\\Users\\yvan.nedelec\\OneDrive - ICM\\Documents\\RE_yvan\\projects\\ICEBERG\\PSG\\EDF iRBD\\230.edf\n",
       "file 28/238, currently opening file: C:\\Users\\yvan.nedelec\\OneDrive - ICM\\Documents\\RE_yvan\\projects\\ICEBERG\\PSG\\EDF iRBD\\234.edf\n",
       "file 29/238, currently opening file: C:\\Users\\yvan.nedelec\\OneDrive - ICM\\Documents\\RE_yvan\\projects\\ICEBERG\\PSG\\EDF iRBD\\244.edf\n",
       "file 30/238, currently opening file: C:\\Users\\yvan.nedelec\\OneDrive - ICM\\Documents\\RE_yvan\\projects\\ICEBERG\\PSG\\EDF iRBD\\249.edf\n",
       "file 31/238, currently opening file: C:\\Users\\yvan.nedelec\\OneDrive - ICM\\Documents\\RE_yvan\\projects\\ICEBERG\\PSG\\EDF iRBD\\261.edf\n",
       "file 32/238, currently opening file: C:\\Users\\yvan.nedelec\\OneDrive - ICM\\Documents\\RE_yvan\\projects\\ICEBERG\\PSG\\EDF iRBD\\285.edf\n",
       "file 33/238, currently opening file: C:\\Users\\yvan.nedelec\\OneDrive - ICM\\Documents\\RE_yvan\\projects\\ICEBERG\\PSG\\EDF iRBD\\302.edf\n",
       "file 34/238, currently opening file: C:\\Users\\yvan.nedelec\\OneDrive - ICM\\Documents\\RE_yvan\\projects\\ICEBERG\\PSG\\EDF iRBD\\303.edf\n",
       "file 35/238, currently opening file: C:\\Users\\yvan.nedelec\\OneDrive - ICM\\Documents\\RE_yvan\\projects\\ICEBERG\\PSG\\EDF iRBD\\39.edf\n",
       "file 36/238, currently opening file: C:\\Users\\yvan.nedelec\\OneDrive - ICM\\Documents\\RE_yvan\\projects\\ICEBERG\\PSG\\EDF iRBD\\44.edf\n",
       "file 37/238, currently opening file: C:\\Users\\yvan.nedelec\\OneDrive - ICM\\Documents\\RE_yvan\\projects\\ICEBERG\\PSG\\EDF iRBD\\49.edf\n",
       "file 38/238, currently opening file: C:\\Users\\yvan.nedelec\\OneDrive - ICM\\Documents\\RE_yvan\\projects\\ICEBERG\\PSG\\EDF iRBD\\52.edf\n",
       "file 39/238, currently opening file: C:\\Users\\yvan.nedelec\\OneDrive - ICM\\Documents\\RE_yvan\\projects\\ICEBERG\\PSG\\EDF iRBD\\53.edf\n",
       "file 40/238, currently opening file: C:\\Users\\yvan.nedelec\\OneDrive - ICM\\Documents\\RE_yvan\\projects\\ICEBERG\\PSG\\EDF iRBD\\54.edf\n",
       "file 41/238, currently opening file: C:\\Users\\yvan.nedelec\\OneDrive - ICM\\Documents\\RE_yvan\\projects\\ICEBERG\\PSG\\EDF iRBD\\57.edf\n",
       "file 42/238, currently opening file: C:\\Users\\yvan.nedelec\\OneDrive - ICM\\Documents\\RE_yvan\\projects\\ICEBERG\\PSG\\EDF iRBD\\59.edf\n",
       "file 43/238, currently opening file: C:\\Users\\yvan.nedelec\\OneDrive - ICM\\Documents\\RE_yvan\\projects\\ICEBERG\\PSG\\EDF iRBD\\60.edf\n",
       "file 44/238, currently opening file: C:\\Users\\yvan.nedelec\\OneDrive - ICM\\Documents\\RE_yvan\\projects\\ICEBERG\\PSG\\EDF iRBD\\62.edf\n",
       "file 45/238, currently opening file: C:\\Users\\yvan.nedelec\\OneDrive - ICM\\Documents\\RE_yvan\\projects\\ICEBERG\\PSG\\EDF iRBD\\64.edf\n",
       "file 46/238, currently opening file: C:\\Users\\yvan.nedelec\\OneDrive - ICM\\Documents\\RE_yvan\\projects\\ICEBERG\\PSG\\EDF iRBD\\65.edf\n",
       "file 47/238, currently opening file: C:\\Users\\yvan.nedelec\\OneDrive - ICM\\Documents\\RE_yvan\\projects\\ICEBERG\\PSG\\EDF iRBD\\66.edf\n",
       "file 48/238, currently opening file: C:\\Users\\yvan.nedelec\\OneDrive - ICM\\Documents\\RE_yvan\\projects\\ICEBERG\\PSG\\EDF iRBD\\78.edf\n",
       "file 49/238, currently opening file: C:\\Users\\yvan.nedelec\\OneDrive - ICM\\Documents\\RE_yvan\\projects\\ICEBERG\\PSG\\EDF iRBD\\90.edf\n",
       "file 50/238, currently opening file: C:\\Users\\yvan.nedelec\\OneDrive - ICM\\Documents\\RE_yvan\\projects\\ICEBERG\\PSG\\EDF iRBD\\93.edf\n",
       "file 51/238, currently opening file: C:\\Users\\yvan.nedelec\\OneDrive - ICM\\Documents\\RE_yvan\\projects\\ICEBERG\\PSG\\EDF iRBD\\96.edf\n",
       "file 52/238, currently opening file: C:\\Users\\yvan.nedelec\\OneDrive - ICM\\Documents\\RE_yvan\\projects\\ICEBERG\\PSG\\EDF PD\\101.edf\n",
       "file 53/238, currently opening file: C:\\Users\\yvan.nedelec\\OneDrive - ICM\\Documents\\RE_yvan\\projects\\ICEBERG\\PSG\\EDF PD\\103.edf\n",
       "file 54/238, currently opening file: C:\\Users\\yvan.nedelec\\OneDrive - ICM\\Documents\\RE_yvan\\projects\\ICEBERG\\PSG\\EDF PD\\105.edf\n",
       "file 55/238, currently opening file: C:\\Users\\yvan.nedelec\\OneDrive - ICM\\Documents\\RE_yvan\\projects\\ICEBERG\\PSG\\EDF PD\\112.edf\n",
       "file 56/238, currently opening file: C:\\Users\\yvan.nedelec\\OneDrive - ICM\\Documents\\RE_yvan\\projects\\ICEBERG\\PSG\\EDF PD\\114.edf\n",
       "file 57/238, currently opening file: C:\\Users\\yvan.nedelec\\OneDrive - ICM\\Documents\\RE_yvan\\projects\\ICEBERG\\PSG\\EDF PD\\118.edf\n",
       "file 58/238, currently opening file: C:\\Users\\yvan.nedelec\\OneDrive - ICM\\Documents\\RE_yvan\\projects\\ICEBERG\\PSG\\EDF PD\\120.edf\n",
       "file 59/238, currently opening file: C:\\Users\\yvan.nedelec\\OneDrive - ICM\\Documents\\RE_yvan\\projects\\ICEBERG\\PSG\\EDF PD\\122.edf\n",
       "file 60/238, currently opening file: C:\\Users\\yvan.nedelec\\OneDrive - ICM\\Documents\\RE_yvan\\projects\\ICEBERG\\PSG\\EDF PD\\123.edf\n",
       "file 61/238, currently opening file: C:\\Users\\yvan.nedelec\\OneDrive - ICM\\Documents\\RE_yvan\\projects\\ICEBERG\\PSG\\EDF PD\\125.edf\n",
       "file 62/238, currently opening file: C:\\Users\\yvan.nedelec\\OneDrive - ICM\\Documents\\RE_yvan\\projects\\ICEBERG\\PSG\\EDF PD\\126.edf\n",
       "file 63/238, currently opening file: C:\\Users\\yvan.nedelec\\OneDrive - ICM\\Documents\\RE_yvan\\projects\\ICEBERG\\PSG\\EDF PD\\127.edf\n",
       "file 64/238, currently opening file: C:\\Users\\yvan.nedelec\\OneDrive - ICM\\Documents\\RE_yvan\\projects\\ICEBERG\\PSG\\EDF PD\\133.edf\n",
       "file 65/238, currently opening file: C:\\Users\\yvan.nedelec\\OneDrive - ICM\\Documents\\RE_yvan\\projects\\ICEBERG\\PSG\\EDF PD\\137.edf\n",
       "file 66/238, currently opening file: C:\\Users\\yvan.nedelec\\OneDrive - ICM\\Documents\\RE_yvan\\projects\\ICEBERG\\PSG\\EDF PD\\138.edf\n",
       "file 67/238, currently opening file: C:\\Users\\yvan.nedelec\\OneDrive - ICM\\Documents\\RE_yvan\\projects\\ICEBERG\\PSG\\EDF PD\\139.edf\n",
       "file 68/238, currently opening file: C:\\Users\\yvan.nedelec\\OneDrive - ICM\\Documents\\RE_yvan\\projects\\ICEBERG\\PSG\\EDF PD\\140.edf\n",
       "file 69/238, currently opening file: C:\\Users\\yvan.nedelec\\OneDrive - ICM\\Documents\\RE_yvan\\projects\\ICEBERG\\PSG\\EDF PD\\142.edf\n",
       "file 70/238, currently opening file: C:\\Users\\yvan.nedelec\\OneDrive - ICM\\Documents\\RE_yvan\\projects\\ICEBERG\\PSG\\EDF PD\\143.edf\n",
       "file 71/238, currently opening file: C:\\Users\\yvan.nedelec\\OneDrive - ICM\\Documents\\RE_yvan\\projects\\ICEBERG\\PSG\\EDF PD\\145.edf\n",
       "file 72/238, currently opening file: C:\\Users\\yvan.nedelec\\OneDrive - ICM\\Documents\\RE_yvan\\projects\\ICEBERG\\PSG\\EDF PD\\147.edf\n",
       "file 73/238, currently opening file: C:\\Users\\yvan.nedelec\\OneDrive - ICM\\Documents\\RE_yvan\\projects\\ICEBERG\\PSG\\EDF PD\\148.edf\n",
       "file 74/238, currently opening file: C:\\Users\\yvan.nedelec\\OneDrive - ICM\\Documents\\RE_yvan\\projects\\ICEBERG\\PSG\\EDF PD\\149.edf\n",
       "file 75/238, currently opening file: C:\\Users\\yvan.nedelec\\OneDrive - ICM\\Documents\\RE_yvan\\projects\\ICEBERG\\PSG\\EDF PD\\152.edf\n",
       "file 76/238, currently opening file: C:\\Users\\yvan.nedelec\\OneDrive - ICM\\Documents\\RE_yvan\\projects\\ICEBERG\\PSG\\EDF PD\\153.edf\n",
       "file 77/238, currently opening file: C:\\Users\\yvan.nedelec\\OneDrive - ICM\\Documents\\RE_yvan\\projects\\ICEBERG\\PSG\\EDF PD\\156.edf\n",
       "file 78/238, currently opening file: C:\\Users\\yvan.nedelec\\OneDrive - ICM\\Documents\\RE_yvan\\projects\\ICEBERG\\PSG\\EDF PD\\157.edf\n",
       "file 79/238, currently opening file: C:\\Users\\yvan.nedelec\\OneDrive - ICM\\Documents\\RE_yvan\\projects\\ICEBERG\\PSG\\EDF PD\\162.edf\n",
       "file 80/238, currently opening file: C:\\Users\\yvan.nedelec\\OneDrive - ICM\\Documents\\RE_yvan\\projects\\ICEBERG\\PSG\\EDF PD\\163.edf\n",
       "file 81/238, currently opening file: C:\\Users\\yvan.nedelec\\OneDrive - ICM\\Documents\\RE_yvan\\projects\\ICEBERG\\PSG\\EDF PD\\165.edf\n",
       "file 82/238, currently opening file: C:\\Users\\yvan.nedelec\\OneDrive - ICM\\Documents\\RE_yvan\\projects\\ICEBERG\\PSG\\EDF PD\\168.edf\n",
       "file 83/238, currently opening file: C:\\Users\\yvan.nedelec\\OneDrive - ICM\\Documents\\RE_yvan\\projects\\ICEBERG\\PSG\\EDF PD\\169.edf\n",
       "file 84/238, currently opening file: C:\\Users\\yvan.nedelec\\OneDrive - ICM\\Documents\\RE_yvan\\projects\\ICEBERG\\PSG\\EDF PD\\170.edf\n",
       "file 85/238, currently opening file: C:\\Users\\yvan.nedelec\\OneDrive - ICM\\Documents\\RE_yvan\\projects\\ICEBERG\\PSG\\EDF PD\\171.edf\n",
       "file 86/238, currently opening file: C:\\Users\\yvan.nedelec\\OneDrive - ICM\\Documents\\RE_yvan\\projects\\ICEBERG\\PSG\\EDF PD\\173.edf\n",
       "file 87/238, currently opening file: C:\\Users\\yvan.nedelec\\OneDrive - ICM\\Documents\\RE_yvan\\projects\\ICEBERG\\PSG\\EDF PD\\174.edf\n",
       "file 88/238, currently opening file: C:\\Users\\yvan.nedelec\\OneDrive - ICM\\Documents\\RE_yvan\\projects\\ICEBERG\\PSG\\EDF PD\\175.edf\n",
       "file 89/238, currently opening file: C:\\Users\\yvan.nedelec\\OneDrive - ICM\\Documents\\RE_yvan\\projects\\ICEBERG\\PSG\\EDF PD\\176.edf\n",
       "file 90/238, currently opening file: C:\\Users\\yvan.nedelec\\OneDrive - ICM\\Documents\\RE_yvan\\projects\\ICEBERG\\PSG\\EDF PD\\185.edf\n",
       "file 91/238, currently opening file: C:\\Users\\yvan.nedelec\\OneDrive - ICM\\Documents\\RE_yvan\\projects\\ICEBERG\\PSG\\EDF PD\\190.edf\n",
       "file 92/238, currently opening file: C:\\Users\\yvan.nedelec\\OneDrive - ICM\\Documents\\RE_yvan\\projects\\ICEBERG\\PSG\\EDF PD\\191.edf\n",
       "file 93/238, currently opening file: C:\\Users\\yvan.nedelec\\OneDrive - ICM\\Documents\\RE_yvan\\projects\\ICEBERG\\PSG\\EDF PD\\193.edf\n",
       "file 94/238, currently opening file: C:\\Users\\yvan.nedelec\\OneDrive - ICM\\Documents\\RE_yvan\\projects\\ICEBERG\\PSG\\EDF PD\\194.edf\n",
       "file 95/238, currently opening file: C:\\Users\\yvan.nedelec\\OneDrive - ICM\\Documents\\RE_yvan\\projects\\ICEBERG\\PSG\\EDF PD\\195.edf\n",
       "file 96/238, currently opening file: C:\\Users\\yvan.nedelec\\OneDrive - ICM\\Documents\\RE_yvan\\projects\\ICEBERG\\PSG\\EDF PD\\211.edf\n",
       "file 97/238, currently opening file: C:\\Users\\yvan.nedelec\\OneDrive - ICM\\Documents\\RE_yvan\\projects\\ICEBERG\\PSG\\EDF PD\\213.edf\n",
       "file 98/238, currently opening file: C:\\Users\\yvan.nedelec\\OneDrive - ICM\\Documents\\RE_yvan\\projects\\ICEBERG\\PSG\\EDF PD\\219.edf\n",
       "file 99/238, currently opening file: C:\\Users\\yvan.nedelec\\OneDrive - ICM\\Documents\\RE_yvan\\projects\\ICEBERG\\PSG\\EDF PD\\221.edf\n",
       "file 100/238, currently opening file: C:\\Users\\yvan.nedelec\\OneDrive - ICM\\Documents\\RE_yvan\\projects\\ICEBERG\\PSG\\EDF PD\\222.edf\n",
       "file 101/238, currently opening file: C:\\Users\\yvan.nedelec\\OneDrive - ICM\\Documents\\RE_yvan\\projects\\ICEBERG\\PSG\\EDF PD\\224.edf\n",
       "file 102/238, currently opening file: C:\\Users\\yvan.nedelec\\OneDrive - ICM\\Documents\\RE_yvan\\projects\\ICEBERG\\PSG\\EDF PD\\226.edf\n",
       "file 103/238, currently opening file: C:\\Users\\yvan.nedelec\\OneDrive - ICM\\Documents\\RE_yvan\\projects\\ICEBERG\\PSG\\EDF PD\\228.edf\n",
       "file 104/238, currently opening file: C:\\Users\\yvan.nedelec\\OneDrive - ICM\\Documents\\RE_yvan\\projects\\ICEBERG\\PSG\\EDF PD\\231.edf\n",
       "file 105/238, currently opening file: C:\\Users\\yvan.nedelec\\OneDrive - ICM\\Documents\\RE_yvan\\projects\\ICEBERG\\PSG\\EDF PD\\238.edf\n",
       "file 106/238, currently opening file: C:\\Users\\yvan.nedelec\\OneDrive - ICM\\Documents\\RE_yvan\\projects\\ICEBERG\\PSG\\EDF PD\\243.edf\n",
       "file 107/238, currently opening file: C:\\Users\\yvan.nedelec\\OneDrive - ICM\\Documents\\RE_yvan\\projects\\ICEBERG\\PSG\\EDF PD\\245.edf\n",
       "file 108/238, currently opening file: C:\\Users\\yvan.nedelec\\OneDrive - ICM\\Documents\\RE_yvan\\projects\\ICEBERG\\PSG\\EDF PD\\246.edf\n",
       "file 109/238, currently opening file: C:\\Users\\yvan.nedelec\\OneDrive - ICM\\Documents\\RE_yvan\\projects\\ICEBERG\\PSG\\EDF PD\\247.edf\n",
       "file 110/238, currently opening file: C:\\Users\\yvan.nedelec\\OneDrive - ICM\\Documents\\RE_yvan\\projects\\ICEBERG\\PSG\\EDF PD\\248.edf\n",
       "file 111/238, currently opening file: C:\\Users\\yvan.nedelec\\OneDrive - ICM\\Documents\\RE_yvan\\projects\\ICEBERG\\PSG\\EDF PD\\250.edf\n",
       "file 112/238, currently opening file: C:\\Users\\yvan.nedelec\\OneDrive - ICM\\Documents\\RE_yvan\\projects\\ICEBERG\\PSG\\EDF PD\\251.edf\n",
       "file 113/238, currently opening file: C:\\Users\\yvan.nedelec\\OneDrive - ICM\\Documents\\RE_yvan\\projects\\ICEBERG\\PSG\\EDF PD\\256.edf\n",
       "file 114/238, currently opening file: C:\\Users\\yvan.nedelec\\OneDrive - ICM\\Documents\\RE_yvan\\projects\\ICEBERG\\PSG\\EDF PD\\257.edf\n",
       "file 115/238, currently opening file: C:\\Users\\yvan.nedelec\\OneDrive - ICM\\Documents\\RE_yvan\\projects\\ICEBERG\\PSG\\EDF PD\\258.edf\n",
       "file 116/238, currently opening file: C:\\Users\\yvan.nedelec\\OneDrive - ICM\\Documents\\RE_yvan\\projects\\ICEBERG\\PSG\\EDF PD\\259.edf\n",
       "file 117/238, currently opening file: C:\\Users\\yvan.nedelec\\OneDrive - ICM\\Documents\\RE_yvan\\projects\\ICEBERG\\PSG\\EDF PD\\260.edf\n",
       "file 118/238, currently opening file: C:\\Users\\yvan.nedelec\\OneDrive - ICM\\Documents\\RE_yvan\\projects\\ICEBERG\\PSG\\EDF PD\\262.edf\n",
       "file 119/238, currently opening file: C:\\Users\\yvan.nedelec\\OneDrive - ICM\\Documents\\RE_yvan\\projects\\ICEBERG\\PSG\\EDF PD\\263.edf\n",
       "file 120/238, currently opening file: C:\\Users\\yvan.nedelec\\OneDrive - ICM\\Documents\\RE_yvan\\projects\\ICEBERG\\PSG\\EDF PD\\267.edf\n",
       "file 121/238, currently opening file: C:\\Users\\yvan.nedelec\\OneDrive - ICM\\Documents\\RE_yvan\\projects\\ICEBERG\\PSG\\EDF PD\\268.edf\n",
       "file 122/238, currently opening file: C:\\Users\\yvan.nedelec\\OneDrive - ICM\\Documents\\RE_yvan\\projects\\ICEBERG\\PSG\\EDF PD\\269.edf\n",
       "file 123/238, currently opening file: C:\\Users\\yvan.nedelec\\OneDrive - ICM\\Documents\\RE_yvan\\projects\\ICEBERG\\PSG\\EDF PD\\270.edf\n",
       "file 124/238, currently opening file: C:\\Users\\yvan.nedelec\\OneDrive - ICM\\Documents\\RE_yvan\\projects\\ICEBERG\\PSG\\EDF PD\\271.edf\n",
       "file 125/238, currently opening file: C:\\Users\\yvan.nedelec\\OneDrive - ICM\\Documents\\RE_yvan\\projects\\ICEBERG\\PSG\\EDF PD\\272.edf\n",
       "file 126/238, currently opening file: C:\\Users\\yvan.nedelec\\OneDrive - ICM\\Documents\\RE_yvan\\projects\\ICEBERG\\PSG\\EDF PD\\273.edf\n",
       "file 127/238, currently opening file: C:\\Users\\yvan.nedelec\\OneDrive - ICM\\Documents\\RE_yvan\\projects\\ICEBERG\\PSG\\EDF PD\\274.edf\n",
       "file 128/238, currently opening file: C:\\Users\\yvan.nedelec\\OneDrive - ICM\\Documents\\RE_yvan\\projects\\ICEBERG\\PSG\\EDF PD\\275.edf\n",
       "file 129/238, currently opening file: C:\\Users\\yvan.nedelec\\OneDrive - ICM\\Documents\\RE_yvan\\projects\\ICEBERG\\PSG\\EDF PD\\276.edf\n",
       "file 130/238, currently opening file: C:\\Users\\yvan.nedelec\\OneDrive - ICM\\Documents\\RE_yvan\\projects\\ICEBERG\\PSG\\EDF PD\\277.edf\n",
       "file 131/238, currently opening file: C:\\Users\\yvan.nedelec\\OneDrive - ICM\\Documents\\RE_yvan\\projects\\ICEBERG\\PSG\\EDF PD\\278.edf\n",
       "file 132/238, currently opening file: C:\\Users\\yvan.nedelec\\OneDrive - ICM\\Documents\\RE_yvan\\projects\\ICEBERG\\PSG\\EDF PD\\282.edf\n",
       "file 133/238, currently opening file: C:\\Users\\yvan.nedelec\\OneDrive - ICM\\Documents\\RE_yvan\\projects\\ICEBERG\\PSG\\EDF PD\\283.edf\n",
       "file 134/238, currently opening file: C:\\Users\\yvan.nedelec\\OneDrive - ICM\\Documents\\RE_yvan\\projects\\ICEBERG\\PSG\\EDF PD\\284.edf\n",
       "file 135/238, currently opening file: C:\\Users\\yvan.nedelec\\OneDrive - ICM\\Documents\\RE_yvan\\projects\\ICEBERG\\PSG\\EDF PD\\286.edf\n",
       "file 136/238, currently opening file: C:\\Users\\yvan.nedelec\\OneDrive - ICM\\Documents\\RE_yvan\\projects\\ICEBERG\\PSG\\EDF PD\\287.edf\n",
       "file 137/238, currently opening file: C:\\Users\\yvan.nedelec\\OneDrive - ICM\\Documents\\RE_yvan\\projects\\ICEBERG\\PSG\\EDF PD\\288.edf\n",
       "file 138/238, currently opening file: C:\\Users\\yvan.nedelec\\OneDrive - ICM\\Documents\\RE_yvan\\projects\\ICEBERG\\PSG\\EDF PD\\289.edf\n",
       "file 139/238, currently opening file: C:\\Users\\yvan.nedelec\\OneDrive - ICM\\Documents\\RE_yvan\\projects\\ICEBERG\\PSG\\EDF PD\\292.edf\n",
       "file 140/238, currently opening file: C:\\Users\\yvan.nedelec\\OneDrive - ICM\\Documents\\RE_yvan\\projects\\ICEBERG\\PSG\\EDF PD\\293.edf\n",
       "file 141/238, currently opening file: C:\\Users\\yvan.nedelec\\OneDrive - ICM\\Documents\\RE_yvan\\projects\\ICEBERG\\PSG\\EDF PD\\294.edf\n",
       "file 142/238, currently opening file: C:\\Users\\yvan.nedelec\\OneDrive - ICM\\Documents\\RE_yvan\\projects\\ICEBERG\\PSG\\EDF PD\\295.edf\n",
       "file 143/238, currently opening file: C:\\Users\\yvan.nedelec\\OneDrive - ICM\\Documents\\RE_yvan\\projects\\ICEBERG\\PSG\\EDF PD\\298.edf\n",
       "file 144/238, currently opening file: C:\\Users\\yvan.nedelec\\OneDrive - ICM\\Documents\\RE_yvan\\projects\\ICEBERG\\PSG\\EDF PD\\299.edf\n",
       "file 145/238, currently opening file: C:\\Users\\yvan.nedelec\\OneDrive - ICM\\Documents\\RE_yvan\\projects\\ICEBERG\\PSG\\EDF PD\\301.edf\n",
       "file 146/238, currently opening file: C:\\Users\\yvan.nedelec\\OneDrive - ICM\\Documents\\RE_yvan\\projects\\ICEBERG\\PSG\\EDF PD\\40.edf\n",
       "file 147/238, currently opening file: C:\\Users\\yvan.nedelec\\OneDrive - ICM\\Documents\\RE_yvan\\projects\\ICEBERG\\PSG\\EDF PD\\41.edf\n",
       "file 148/238, currently opening file: C:\\Users\\yvan.nedelec\\OneDrive - ICM\\Documents\\RE_yvan\\projects\\ICEBERG\\PSG\\EDF PD\\42.edf\n",
       "file 149/238, currently opening file: C:\\Users\\yvan.nedelec\\OneDrive - ICM\\Documents\\RE_yvan\\projects\\ICEBERG\\PSG\\EDF PD\\43.edf\n",
       "file 150/238, currently opening file: C:\\Users\\yvan.nedelec\\OneDrive - ICM\\Documents\\RE_yvan\\projects\\ICEBERG\\PSG\\EDF PD\\45.edf\n",
       "file 151/238, currently opening file: C:\\Users\\yvan.nedelec\\OneDrive - ICM\\Documents\\RE_yvan\\projects\\ICEBERG\\PSG\\EDF PD\\46.edf\n",
       "file 152/238, currently opening file: C:\\Users\\yvan.nedelec\\OneDrive - ICM\\Documents\\RE_yvan\\projects\\ICEBERG\\PSG\\EDF PD\\47.edf\n",
       "file 153/238, currently opening file: C:\\Users\\yvan.nedelec\\OneDrive - ICM\\Documents\\RE_yvan\\projects\\ICEBERG\\PSG\\EDF PD\\48.edf\n",
       "file 154/238, currently opening file: C:\\Users\\yvan.nedelec\\OneDrive - ICM\\Documents\\RE_yvan\\projects\\ICEBERG\\PSG\\EDF PD\\51.edf\n",
       "file 155/238, currently opening file: C:\\Users\\yvan.nedelec\\OneDrive - ICM\\Documents\\RE_yvan\\projects\\ICEBERG\\PSG\\EDF PD\\55.edf\n",
       "file 156/238, currently opening file: C:\\Users\\yvan.nedelec\\OneDrive - ICM\\Documents\\RE_yvan\\projects\\ICEBERG\\PSG\\EDF PD\\56.edf\n",
       "file 157/238, currently opening file: C:\\Users\\yvan.nedelec\\OneDrive - ICM\\Documents\\RE_yvan\\projects\\ICEBERG\\PSG\\EDF PD\\58.edf\n",
       "file 158/238, currently opening file: C:\\Users\\yvan.nedelec\\OneDrive - ICM\\Documents\\RE_yvan\\projects\\ICEBERG\\PSG\\EDF PD\\63.edf\n",
       "file 159/238, currently opening file: C:\\Users\\yvan.nedelec\\OneDrive - ICM\\Documents\\RE_yvan\\projects\\ICEBERG\\PSG\\EDF PD\\67.edf\n",
       "file 160/238, currently opening file: C:\\Users\\yvan.nedelec\\OneDrive - ICM\\Documents\\RE_yvan\\projects\\ICEBERG\\PSG\\EDF PD\\68.edf\n",
       "file 161/238, currently opening file: C:\\Users\\yvan.nedelec\\OneDrive - ICM\\Documents\\RE_yvan\\projects\\ICEBERG\\PSG\\EDF PD\\69.edf\n",
       "file 162/238, currently opening file: C:\\Users\\yvan.nedelec\\OneDrive - ICM\\Documents\\RE_yvan\\projects\\ICEBERG\\PSG\\EDF PD\\71.edf\n",
       "file 163/238, currently opening file: C:\\Users\\yvan.nedelec\\OneDrive - ICM\\Documents\\RE_yvan\\projects\\ICEBERG\\PSG\\EDF PD\\72.edf\n",
       "file 164/238, currently opening file: C:\\Users\\yvan.nedelec\\OneDrive - ICM\\Documents\\RE_yvan\\projects\\ICEBERG\\PSG\\EDF PD\\74.edf\n",
       "file 165/238, currently opening file: C:\\Users\\yvan.nedelec\\OneDrive - ICM\\Documents\\RE_yvan\\projects\\ICEBERG\\PSG\\EDF PD\\76.edf\n",
       "file 166/238, currently opening file: C:\\Users\\yvan.nedelec\\OneDrive - ICM\\Documents\\RE_yvan\\projects\\ICEBERG\\PSG\\EDF PD\\77.edf\n",
       "file 167/238, currently opening file: C:\\Users\\yvan.nedelec\\OneDrive - ICM\\Documents\\RE_yvan\\projects\\ICEBERG\\PSG\\EDF PD\\79.edf\n",
       "file 168/238, currently opening file: C:\\Users\\yvan.nedelec\\OneDrive - ICM\\Documents\\RE_yvan\\projects\\ICEBERG\\PSG\\EDF PD\\80.edf\n",
       "file 169/238, currently opening file: C:\\Users\\yvan.nedelec\\OneDrive - ICM\\Documents\\RE_yvan\\projects\\ICEBERG\\PSG\\EDF PD\\82.edf\n",
       "file 170/238, currently opening file: C:\\Users\\yvan.nedelec\\OneDrive - ICM\\Documents\\RE_yvan\\projects\\ICEBERG\\PSG\\EDF PD\\83.edf\n",
       "file 171/238, currently opening file: C:\\Users\\yvan.nedelec\\OneDrive - ICM\\Documents\\RE_yvan\\projects\\ICEBERG\\PSG\\EDF PD\\85.edf\n",
       "file 172/238, currently opening file: C:\\Users\\yvan.nedelec\\OneDrive - ICM\\Documents\\RE_yvan\\projects\\ICEBERG\\PSG\\EDF PD\\86.edf\n",
       "file 173/238, currently opening file: C:\\Users\\yvan.nedelec\\OneDrive - ICM\\Documents\\RE_yvan\\projects\\ICEBERG\\PSG\\EDF PD\\87.edf\n",
       "file 174/238, currently opening file: C:\\Users\\yvan.nedelec\\OneDrive - ICM\\Documents\\RE_yvan\\projects\\ICEBERG\\PSG\\EDF PD\\88.edf\n",
       "file 175/238, currently opening file: C:\\Users\\yvan.nedelec\\OneDrive - ICM\\Documents\\RE_yvan\\projects\\ICEBERG\\PSG\\EDF PD\\89.edf\n",
       "file 176/238, currently opening file: C:\\Users\\yvan.nedelec\\OneDrive - ICM\\Documents\\RE_yvan\\projects\\ICEBERG\\PSG\\EDF PD\\92.edf\n",
       "file 177/238, currently opening file: C:\\Users\\yvan.nedelec\\OneDrive - ICM\\Documents\\RE_yvan\\projects\\ICEBERG\\PSG\\EDF PD\\95.edf\n",
       "file 178/238, currently opening file: C:\\Users\\yvan.nedelec\\OneDrive - ICM\\Documents\\RE_yvan\\projects\\ICEBERG\\PSG\\EDF PD\\97.edf\n",
       "file 179/238, currently opening file: C:\\Users\\yvan.nedelec\\OneDrive - ICM\\Documents\\RE_yvan\\projects\\ICEBERG\\PSG\\EDF VS\\104.edf\n",
       "file 180/238, currently opening file: C:\\Users\\yvan.nedelec\\OneDrive - ICM\\Documents\\RE_yvan\\projects\\ICEBERG\\PSG\\EDF VS\\106.edf\n",
       "file 181/238, currently opening file: C:\\Users\\yvan.nedelec\\OneDrive - ICM\\Documents\\RE_yvan\\projects\\ICEBERG\\PSG\\EDF VS\\107.edf\n",
       "file 182/238, currently opening file: C:\\Users\\yvan.nedelec\\OneDrive - ICM\\Documents\\RE_yvan\\projects\\ICEBERG\\PSG\\EDF VS\\109.edf\n",
       "file 183/238, currently opening file: C:\\Users\\yvan.nedelec\\OneDrive - ICM\\Documents\\RE_yvan\\projects\\ICEBERG\\PSG\\EDF VS\\110.edf\n",
       "file 184/238, currently opening file: C:\\Users\\yvan.nedelec\\OneDrive - ICM\\Documents\\RE_yvan\\projects\\ICEBERG\\PSG\\EDF VS\\111.edf\n",
       "file 185/238, currently opening file: C:\\Users\\yvan.nedelec\\OneDrive - ICM\\Documents\\RE_yvan\\projects\\ICEBERG\\PSG\\EDF VS\\115.edf\n",
       "file 186/238, currently opening file: C:\\Users\\yvan.nedelec\\OneDrive - ICM\\Documents\\RE_yvan\\projects\\ICEBERG\\PSG\\EDF VS\\116.edf\n",
       "file 187/238, currently opening file: C:\\Users\\yvan.nedelec\\OneDrive - ICM\\Documents\\RE_yvan\\projects\\ICEBERG\\PSG\\EDF VS\\117.edf\n",
       "file 188/238, currently opening file: C:\\Users\\yvan.nedelec\\OneDrive - ICM\\Documents\\RE_yvan\\projects\\ICEBERG\\PSG\\EDF VS\\119.edf\n",
       "file 189/238, currently opening file: C:\\Users\\yvan.nedelec\\OneDrive - ICM\\Documents\\RE_yvan\\projects\\ICEBERG\\PSG\\EDF VS\\121.edf\n",
       "file 190/238, currently opening file: C:\\Users\\yvan.nedelec\\OneDrive - ICM\\Documents\\RE_yvan\\projects\\ICEBERG\\PSG\\EDF VS\\124.edf\n",
       "file 191/238, currently opening file: C:\\Users\\yvan.nedelec\\OneDrive - ICM\\Documents\\RE_yvan\\projects\\ICEBERG\\PSG\\EDF VS\\130.edf\n",
       "file 192/238, currently opening file: C:\\Users\\yvan.nedelec\\OneDrive - ICM\\Documents\\RE_yvan\\projects\\ICEBERG\\PSG\\EDF VS\\131.edf\n",
       "file 193/238, currently opening file: C:\\Users\\yvan.nedelec\\OneDrive - ICM\\Documents\\RE_yvan\\projects\\ICEBERG\\PSG\\EDF VS\\136.edf\n",
       "file 194/238, currently opening file: C:\\Users\\yvan.nedelec\\OneDrive - ICM\\Documents\\RE_yvan\\projects\\ICEBERG\\PSG\\EDF VS\\144.edf\n",
       "file 195/238, currently opening file: C:\\Users\\yvan.nedelec\\OneDrive - ICM\\Documents\\RE_yvan\\projects\\ICEBERG\\PSG\\EDF VS\\150.edf\n",
       "file 196/238, currently opening file: C:\\Users\\yvan.nedelec\\OneDrive - ICM\\Documents\\RE_yvan\\projects\\ICEBERG\\PSG\\EDF VS\\155.edf\n",
       "file 197/238, currently opening file: C:\\Users\\yvan.nedelec\\OneDrive - ICM\\Documents\\RE_yvan\\projects\\ICEBERG\\PSG\\EDF VS\\158.edf\n",
       "file 198/238, currently opening file: C:\\Users\\yvan.nedelec\\OneDrive - ICM\\Documents\\RE_yvan\\projects\\ICEBERG\\PSG\\EDF VS\\159.edf\n",
       "file 199/238, currently opening file: C:\\Users\\yvan.nedelec\\OneDrive - ICM\\Documents\\RE_yvan\\projects\\ICEBERG\\PSG\\EDF VS\\160.edf\n",
       "file 200/238, currently opening file: C:\\Users\\yvan.nedelec\\OneDrive - ICM\\Documents\\RE_yvan\\projects\\ICEBERG\\PSG\\EDF VS\\161.edf\n",
       "file 201/238, currently opening file: C:\\Users\\yvan.nedelec\\OneDrive - ICM\\Documents\\RE_yvan\\projects\\ICEBERG\\PSG\\EDF VS\\166.edf\n",
       "file 202/238, currently opening file: C:\\Users\\yvan.nedelec\\OneDrive - ICM\\Documents\\RE_yvan\\projects\\ICEBERG\\PSG\\EDF VS\\172.edf\n",
       "file 203/238, currently opening file: C:\\Users\\yvan.nedelec\\OneDrive - ICM\\Documents\\RE_yvan\\projects\\ICEBERG\\PSG\\EDF VS\\177.edf\n",
       "file 204/238, currently opening file: C:\\Users\\yvan.nedelec\\OneDrive - ICM\\Documents\\RE_yvan\\projects\\ICEBERG\\PSG\\EDF VS\\181.edf\n",
       "file 205/238, currently opening file: C:\\Users\\yvan.nedelec\\OneDrive - ICM\\Documents\\RE_yvan\\projects\\ICEBERG\\PSG\\EDF VS\\182.edf\n",
       "file 206/238, currently opening file: C:\\Users\\yvan.nedelec\\OneDrive - ICM\\Documents\\RE_yvan\\projects\\ICEBERG\\PSG\\EDF VS\\186.edf\n",
       "file 207/238, currently opening file: C:\\Users\\yvan.nedelec\\OneDrive - ICM\\Documents\\RE_yvan\\projects\\ICEBERG\\PSG\\EDF VS\\187.edf\n",
       "file 208/238, currently opening file: C:\\Users\\yvan.nedelec\\OneDrive - ICM\\Documents\\RE_yvan\\projects\\ICEBERG\\PSG\\EDF VS\\188.edf\n",
       "file 209/238, currently opening file: C:\\Users\\yvan.nedelec\\OneDrive - ICM\\Documents\\RE_yvan\\projects\\ICEBERG\\PSG\\EDF VS\\189.edf\n",
       "file 210/238, currently opening file: C:\\Users\\yvan.nedelec\\OneDrive - ICM\\Documents\\RE_yvan\\projects\\ICEBERG\\PSG\\EDF VS\\196.edf\n",
       "file 211/238, currently opening file: C:\\Users\\yvan.nedelec\\OneDrive - ICM\\Documents\\RE_yvan\\projects\\ICEBERG\\PSG\\EDF VS\\202.edf\n",
       "file 212/238, currently opening file: C:\\Users\\yvan.nedelec\\OneDrive - ICM\\Documents\\RE_yvan\\projects\\ICEBERG\\PSG\\EDF VS\\207.edf\n",
       "file 213/238, currently opening file: C:\\Users\\yvan.nedelec\\OneDrive - ICM\\Documents\\RE_yvan\\projects\\ICEBERG\\PSG\\EDF VS\\208.edf\n",
       "file 214/238, currently opening file: C:\\Users\\yvan.nedelec\\OneDrive - ICM\\Documents\\RE_yvan\\projects\\ICEBERG\\PSG\\EDF VS\\209.edf\n",
       "file 215/238, currently opening file: C:\\Users\\yvan.nedelec\\OneDrive - ICM\\Documents\\RE_yvan\\projects\\ICEBERG\\PSG\\EDF VS\\214.edf\n",
       "file 216/238, currently opening file: C:\\Users\\yvan.nedelec\\OneDrive - ICM\\Documents\\RE_yvan\\projects\\ICEBERG\\PSG\\EDF VS\\216.edf\n",
       "file 217/238, currently opening file: C:\\Users\\yvan.nedelec\\OneDrive - ICM\\Documents\\RE_yvan\\projects\\ICEBERG\\PSG\\EDF VS\\217.edf\n",
       "file 218/238, currently opening file: C:\\Users\\yvan.nedelec\\OneDrive - ICM\\Documents\\RE_yvan\\projects\\ICEBERG\\PSG\\EDF VS\\218.edf\n",
       "file 219/238, currently opening file: C:\\Users\\yvan.nedelec\\OneDrive - ICM\\Documents\\RE_yvan\\projects\\ICEBERG\\PSG\\EDF VS\\220.edf\n",
       "file 220/238, currently opening file: C:\\Users\\yvan.nedelec\\OneDrive - ICM\\Documents\\RE_yvan\\projects\\ICEBERG\\PSG\\EDF VS\\227.edf\n",
       "file 221/238, currently opening file: C:\\Users\\yvan.nedelec\\OneDrive - ICM\\Documents\\RE_yvan\\projects\\ICEBERG\\PSG\\EDF VS\\23.EDF\n",
       "file 222/238, currently opening file: C:\\Users\\yvan.nedelec\\OneDrive - ICM\\Documents\\RE_yvan\\projects\\ICEBERG\\PSG\\EDF VS\\233.edf\n",
       "file 223/238, currently opening file: C:\\Users\\yvan.nedelec\\OneDrive - ICM\\Documents\\RE_yvan\\projects\\ICEBERG\\PSG\\EDF VS\\235.edf\n",
       "file 224/238, currently opening file: C:\\Users\\yvan.nedelec\\OneDrive - ICM\\Documents\\RE_yvan\\projects\\ICEBERG\\PSG\\EDF VS\\236.edf\n",
       "file 225/238, currently opening file: C:\\Users\\yvan.nedelec\\OneDrive - ICM\\Documents\\RE_yvan\\projects\\ICEBERG\\PSG\\EDF VS\\237.edf\n",
       "file 226/238, currently opening file: C:\\Users\\yvan.nedelec\\OneDrive - ICM\\Documents\\RE_yvan\\projects\\ICEBERG\\PSG\\EDF VS\\240.edf\n",
       "file 227/238, currently opening file: C:\\Users\\yvan.nedelec\\OneDrive - ICM\\Documents\\RE_yvan\\projects\\ICEBERG\\PSG\\EDF VS\\242.edf\n",
       "file 228/238, currently opening file: C:\\Users\\yvan.nedelec\\OneDrive - ICM\\Documents\\RE_yvan\\projects\\ICEBERG\\PSG\\EDF VS\\265.edf\n",
       "file 229/238, currently opening file: C:\\Users\\yvan.nedelec\\OneDrive - ICM\\Documents\\RE_yvan\\projects\\ICEBERG\\PSG\\EDF VS\\266.edf\n",
       "file 230/238, currently opening file: C:\\Users\\yvan.nedelec\\OneDrive - ICM\\Documents\\RE_yvan\\projects\\ICEBERG\\PSG\\EDF VS\\280.edf\n",
       "file 231/238, currently opening file: C:\\Users\\yvan.nedelec\\OneDrive - ICM\\Documents\\RE_yvan\\projects\\ICEBERG\\PSG\\EDF VS\\290.edf\n",
       "file 232/238, currently opening file: C:\\Users\\yvan.nedelec\\OneDrive - ICM\\Documents\\RE_yvan\\projects\\ICEBERG\\PSG\\EDF VS\\296.edf\n",
       "file 233/238, currently opening file: C:\\Users\\yvan.nedelec\\OneDrive - ICM\\Documents\\RE_yvan\\projects\\ICEBERG\\PSG\\EDF VS\\73.edf\n",
       "file 234/238, currently opening file: C:\\Users\\yvan.nedelec\\OneDrive - ICM\\Documents\\RE_yvan\\projects\\ICEBERG\\PSG\\EDF VS\\75.edf\n",
       "file 235/238, currently opening file: C:\\Users\\yvan.nedelec\\OneDrive - ICM\\Documents\\RE_yvan\\projects\\ICEBERG\\PSG\\EDF VS\\91.edf\n",
       "file 236/238, currently opening file: C:\\Users\\yvan.nedelec\\OneDrive - ICM\\Documents\\RE_yvan\\projects\\ICEBERG\\PSG\\EDF VS\\94.edf\n",
       "file 237/238, currently opening file: C:\\Users\\yvan.nedelec\\OneDrive - ICM\\Documents\\RE_yvan\\projects\\ICEBERG\\PSG\\EDF VS\\98.edf\n",
       "file 238/238, currently opening file: C:\\Users\\yvan.nedelec\\OneDrive - ICM\\Documents\\RE_yvan\\projects\\ICEBERG\\PSG\\EDF VS\\99.edf\n",
       "</pre>"
      ],
      "text/plain": [
       "<IPython.core.display.HTML object>"
      ]
     },
     "metadata": {},
     "output_type": "display_data"
    },
    {
     "name": "stdout",
     "output_type": "stream",
     "text": [
      "\tDetected encoding for C:\\Users\\yvan.nedelec\\OneDrive - ICM\\Documents\\RE_yvan\\projects\\ICEBERG\\PSG\\EDF VS\\99.edf : ascii\n",
      "\n",
      "Saving full informations from headers of the dataset to:\n",
      "C:\\Users\\yvan.nedelec\\OneDrive - ICM\\Documents\\RE_yvan\\projects\\ICEBERG\\PSG/summary/full_summary_table_edf.tsv\n"
     ]
    }
   ],
   "source": [
    "# intialyse empty list for file that could not be read\n",
    "failed_list = []\n",
    "output = \"\"\n",
    "for e, edf_path in enumerate(edf_files):\n",
    "    output += (f'file {e+1}/{len(edf_files)}, currently opening file: {edf_path}\\n')\n",
    "    clear_output(wait=True)\n",
    "    print_in_scrollable_box(output, font_size = \"12px\")\n",
    "    \n",
    "    # read file with the custom function\n",
    "    try:\n",
    "        edf_header = read_edf_header_custom(edf_path) \n",
    "        \n",
    "        # get subject name (corresponding to file_name)\n",
    "        sub_name = edf_path.stem\n",
    "        \n",
    "        # get subject group (from the parent folder, in ICEBERG database subfolder were created per patient group)\n",
    "        sub_folder = edf_path.parent.name # get the parent folder of the subject file (path)\n",
    "        \n",
    "        # create df from signal info\n",
    "        df = pd.DataFrame(edf_header)\n",
    "            \n",
    "        # theoretical resolution (edf are 16bit files so the eeg signal can take 2^16 values within the dynamic range)\n",
    "        df['res_theoretical'] = (abs(pd.to_numeric(df['physical_min']))+abs(pd.to_numeric(df['physical_max'])))/pow(2,16)\n",
    "        # turn theoretical resolution to uV if dimension is mV (if no dimension, it is a mess)\n",
    "        df.loc[df['dimension'].str.contains('mv', case=False, na=False), 'res_theoretical'] *= 1000\n",
    "        \n",
    "        # get filtering info in different columns\n",
    "        df['lowpass']   = df['prefiltering'].apply(lambda x: extract_filter_value(x, 'LP'))\n",
    "        df['highpass']  = df['prefiltering'].apply(lambda x: extract_filter_value(x, 'HP'))\n",
    "        df['notch']  = df['prefiltering'].apply(lambda x: extract_filter_value(x, 'NOTCH'))\n",
    "        \n",
    "        # add subject info in the dataframe\n",
    "        df['subject'] = sub_name\n",
    "        df['group'] = sub_folder\n",
    "        df['path'] = str(edf_path)\n",
    "        \n",
    "        # select only the columns of interest\n",
    "        df = df[['subject', 'group', 'path', 'channel', 'transducer_type', 'dimension', 'sampling_frequency', \n",
    "             'highpass', 'lowpass', 'notch', 'physical_min', 'physical_max', 'res_theoretical']]\n",
    "        \n",
    "        # store subject data\n",
    "        df_list.append(df)\n",
    "\n",
    "    except UnicodeDecodeError as e:\n",
    "        print(f\"[⚠️] Encoding problem for {edf_path}\")\n",
    "        failed_list.append((edf_path, 'encoding'))\n",
    "    except Exception as e:\n",
    "        print(f\"[❌] Unkown problem for {edf_path} : {e}\")\n",
    "        failed_list.append((edf_path, 'other'))\n",
    "   \n",
    "# concatenate dataframe into one and only\n",
    "with warnings.catch_warnings(): # this is to skip a warning not affecting our operation\n",
    "    warnings.simplefilter(\"ignore\", FutureWarning)\n",
    "    df_full = pd.concat(df_list, ignore_index=True)\n",
    "\n",
    "# save summary table containing full info\n",
    "df_full.to_csv(f'{summary_path}/full_summary_table_edf.tsv', sep = '\\t')\n",
    "print(f'\\nSaving full informations from headers of the dataset to:\\n{summary_path}/full_summary_table_edf.tsv')\n",
    "\n",
    "# save the failed list if not empty:\n",
    "failed_df = pd.DataFrame(failed_list)\n",
    "if not failed_df.empty:\n",
    "    failed_df.to_csv(f'{summary_path}/failed_edf_read.tsv', sep = '\\t')\n",
    "    print(f'\\nSaving the list of files that could not be read to: \\n{summary_path}/failed_edf_read.tsv')    "
   ]
  },
  {
   "cell_type": "markdown",
   "id": "6fe23577-f4c7-4616-944c-322ac7d83552",
   "metadata": {
    "jp-MarkdownHeadingCollapsed": true
   },
   "source": [
    "## 3. Inspect dataset general info (# participants, groups, recorded sensors)"
   ]
  },
  {
   "cell_type": "code",
   "execution_count": 5,
   "id": "8b1f65f0-5aa2-471f-9ce3-12090834744c",
   "metadata": {},
   "outputs": [
    {
     "name": "stdout",
     "output_type": "stream",
     "text": [
      "\n",
      ">>> There is 238 participants in your dataset, within 3 group(s): ['EDF iRBD' 'EDF PD' 'EDF VS'] <<<\n",
      "          n_subjects\n",
      "group               \n",
      "EDF PD           127\n",
      "EDF VS            60\n",
      "EDF iRBD          51\n"
     ]
    }
   ],
   "source": [
    "print(f'\\n>>> There is {len(df_full[\"subject\"].unique())} participants in your dataset, within {len(df_full[\"group\"].unique())} group(s): {df_full[\"group\"].unique()} <<<')\n",
    "print(df_full.drop_duplicates().groupby('group').agg(n_subjects=('subject', 'nunique')))"
   ]
  },
  {
   "cell_type": "code",
   "execution_count": 9,
   "id": "fdf3b8b8-fdc9-4b34-abef-5cbaab4a1f6f",
   "metadata": {},
   "outputs": [
    {
     "name": "stdout",
     "output_type": "stream",
     "text": [
      "\n",
      "Full recorded sensors configuration of your database (across participants): \n"
     ]
    },
    {
     "data": {
      "text/html": [
       "<pre style=\"overflow-y:scroll; height:150px; border:1px solid black; padding:10px; font-size:12px;\">Fp1\n",
       "Fp2\n",
       "F3\n",
       "T7/T3\n",
       "C3\n",
       "Cz\n",
       "C4\n",
       "T8/T4\n",
       "A1\n",
       "A2\n",
       "O1\n",
       "O2\n",
       "EOG G\n",
       "EOG D\n",
       "EMG 1\n",
       "EMG 2\n",
       "EMG 8-\n",
       "EMG 8+\n",
       "ECG\n",
       "EMG JG\n",
       "EMG JD\n",
       "EMG 3\n",
       "EMG 4\n",
       "EMG 5\n",
       "EMG 6\n",
       "EMG 7\n",
       "Thermistance\n",
       "Flow\n",
       "Resp Imp\n",
       "Thoracic\n",
       "Abdominal\n",
       "Pression\n",
       "Flux\n",
       "Light\n",
       "Position\n",
       "Mic\n",
       "SpO2\n",
       "Pulse\n",
       "Pleth\n",
       "R Press Mask\n",
       "R Debit\n",
       "R Fuite\n",
       "R Vol Courant\n",
       "P Press Mask\n",
       "P Debit\n",
       "P Fuite\n",
       "P Vol Courant\n",
       "W Press Mask\n",
       "W Debit\n",
       "W Fuite\n",
       "W Vol Courant\n",
       "RCC1\n",
       "RCC2\n",
       "TcPCO2\n",
       "PTT\n",
       "Derived HR\n",
       "DHR\n",
       "Sum\n",
       "EDF Annotations\n",
       "ECG 1\n",
       "ECG 2\n",
       "EMG JD1\n",
       "EMG JD2\n",
       "EMG JG1\n",
       "EMG JG2\n",
       "FC\n",
       "External Pressur\n",
       "RespRate\n",
       "F7\n",
       "EOG1\n",
       "EOG2\n",
       "FP1-A2\n",
       "C3-A2\n",
       "O1-A2\n",
       "FP2-A1\n",
       "C4-A1\n",
       "O2-A1\n",
       "T3-A2\n",
       "T4-A1\n",
       "EMG1\n",
       "EMG2\n",
       "EMG3\n",
       "NAF2P\n",
       "VTH\n",
       "PCPAP\n",
       "VAB\n",
       "POS\n",
       "PHONO\n",
       "STERN\n",
       "SAO2\n",
       "PR\n",
       "PULSE\n",
       "PTF\n",
       "HR\n",
       "EMG 3-1\n",
       "EMG 3-2\n",
       "EMG 4-1\n",
       "EMG 4-2\n",
       "EGG\n",
       "Thor\n",
       "Abdo\n",
       "F4\n",
       "P7/T5\n",
       "P3\n",
       "P4\n",
       "P8/T6\n",
       "Pz\n",
       "TCM5 tcCO2\n",
       "PO2\n",
       "TCM5 SpO2\n",
       "TCM5 Pulse\n",
       "Heat Power\n",
       "Pulsation Index\n",
       "Sensor Temperatu\n",
       "Canula\n",
       "Therm\n",
       "Pressure\n",
       "Snore\n",
       "Nasal Pressure\n",
       "ManPosition\n",
       "ManLights\n",
       "Fp1-A2\n",
       "EMG 1-EMG 2\n",
       "EMG 8+-EMG 8-\n",
       "T3\n",
       "T4\n",
       "Respiratory rate\n",
       "Lights\n",
       "EMG4</pre>"
      ],
      "text/plain": [
       "<IPython.core.display.HTML object>"
      ]
     },
     "metadata": {},
     "output_type": "display_data"
    }
   ],
   "source": [
    "print('\\nFull recorded sensors configuration of your database (across participants): ')\n",
    "ch_output = '\\n'.join(df_full['channel'].unique())\n",
    "print_in_scrollable_box(ch_output, height = 150)"
   ]
  },
  {
   "cell_type": "markdown",
   "id": "dc4bf662-62bb-4046-a98b-8298c117276f",
   "metadata": {},
   "source": [
    "## 4. Inspect EEG"
   ]
  },
  {
   "cell_type": "markdown",
   "id": "8020e2fd-b7ec-4249-a53a-f010f38ffcc9",
   "metadata": {
    "jp-MarkdownHeadingCollapsed": true
   },
   "source": [
    "### 4.1 Select only the EEGs"
   ]
  },
  {
   "cell_type": "code",
   "execution_count": 10,
   "id": "8c434167-29d3-4fd0-894e-8438c8ff5d1a",
   "metadata": {},
   "outputs": [
    {
     "name": "stdout",
     "output_type": "stream",
     "text": [
      "\n",
      "Saving informations from EEG channels to:\n",
      "C:\\Users\\yvan.nedelec\\OneDrive - ICM\\Documents\\RE_yvan\\projects\\ICEBERG\\PSG/summary/EEG_summary_table.tsv\n"
     ]
    }
   ],
   "source": [
    "# select only EEG channels and return a warning if the number of participant is smaller/higher\n",
    "mask_ch = df_full['transducer_type'].str.contains(r'EEG|AGAGCL ELECTRODE', case = False, na=False) # create a mask that returns true for lines containing either EEG/AGAGCL ELECTRODE in the transducer_type column\n",
    "df_ch = df_full[mask_ch]\n",
    "# remove the emg channels that were captured with the AGAGCL ELECTRODE transducer type \n",
    "df_ch = df_ch[~df_ch['channel'].str.contains(r'emg|ecg|eog', case=False, na=False)] # the ~ allows to not select the selection (like ! in matlab)\n",
    "\n",
    "# Check if the number of participants with only EEG is the same as df_full. \n",
    "# If not, it might be because the transducer type was no correctly detected. \n",
    "# One possibility is to add the type of transducer to the condition line 2 of this cell.\n",
    "if len(df_full['subject'].unique()) > len(df_ch['subject'].unique()):\n",
    "    # identify missing subjects\n",
    "    missing_sub = set(df_full['subject'].unique()) - set(df_ch['subject'].unique())\n",
    "    print('\\n!!! There is less participants in the dataset with only EEGs !!!')\n",
    "    print(f'Missing participants: {missing_sub}')\n",
    "    print(\"\\nEither these participants don't have EEGs.\")\n",
    "    print(\"Or the transducer type was not correctly detected.\")\n",
    "    # get df of missing sub to save and inspect\n",
    "    df_miss = df_full[df_full['subject'].isin(missing_sub)]\n",
    "    df_miss.to_csv(f'{summary_path}/EEG_missing_edf.tsv', sep = '\\t')\n",
    "    print(f'\\nSaving informations from missing participants to:\\n{summary_path}/EEG_missing_edf.tsv')\n",
    "    print('Please inspect the file, and specifically the column transducer_type')\n",
    "elif len(df_full['subject'].unique()) < len(df_ch['subject'].unique()):\n",
    "    print('\\n!!! There is more participants in the dataset with only EEGs !!!')\n",
    "    print('This should not be the case.')\n",
    "    print('Please inspect what is happening in a code editor (spyder..), or ask Yvan.')\n",
    "    more_sub = set(df_ch['subject'].unique()) - set(df_full['subject'].unique())\n",
    "    df_more = df_ch[df_ch['subject'].isin(more_sub)]\n",
    "    df_more.to_csv(f'{summary_path}/EEG_suspect_edf.tsv', sep = '\\t')\n",
    "    print(f'\\nSaving informations from suspect participants to:\\n{summary_path}/EEG_suspect_edf.tsv')\n",
    "\n",
    "# saving info from eeg\n",
    "df_ch.to_csv(f'{summary_path}/EEG_summary_table.tsv', sep = '\\t')\n",
    "print(f'\\nSaving informations from EEGs to:\\n{summary_path}/EEG_summary_table.tsv')"
   ]
  },
  {
   "cell_type": "markdown",
   "id": "4a752f46-632f-4120-b905-f32a26a4d6cc",
   "metadata": {
    "jp-MarkdownHeadingCollapsed": true
   },
   "source": [
    "### 4.2 Inspect EEG configurations"
   ]
  },
  {
   "cell_type": "markdown",
   "id": "b7373270-1a31-4919-baf8-349c0fa408b5",
   "metadata": {},
   "source": [
    "There will be likely many EEG configurations (especially with multicentric dataset).  \\\n",
    "\\\n",
    "For polysomnographic EEG, there should be at least:\n",
    "- 4 EEG (Fp1, C3, O1 and A2 that will be used as the reference) (or less frequently Fp2, C4, O2 and A1)\n",
    "\n",
    "Depending on the analysis you plan, if one configuration does not contain those electrodes you will need either to re-export the data or to exclude the participant. \\\n",
    "\\\n",
    "If the EEG label is Fp1-A2, it means that your data is already re-referenced to A2."
   ]
  },
  {
   "cell_type": "code",
   "execution_count": 11,
   "id": "994eb7b0-4742-4d3c-94f0-36b34b2b065b",
   "metadata": {},
   "outputs": [
    {
     "name": "stdout",
     "output_type": "stream",
     "text": [
      "\n",
      ">>> There is multiple EEG configurations in your dataset! <<<\n",
      "\n",
      "\tNumber of different channels configuration: 11\n",
      "\n"
     ]
    }
   ],
   "source": [
    "# get the EEG configuration per participant \n",
    "ch_per_sub = df_ch.groupby('subject')['channel'].apply(lambda x: tuple(sorted(set(x))))\n",
    "\n",
    "# identify the channel configuration of each participant and store them in a dict to print per channel config\n",
    "ch_config_dict = {}\n",
    "for config in ch_per_sub.unique():\n",
    "    sub = ch_per_sub[ch_per_sub == config].index.tolist()\n",
    "    ch_config_dict[config] = sub\n",
    "\n",
    "if len(ch_config_dict) > 1:\n",
    "    print('\\n>>> There is multiple EEG configurations in your dataset! <<<')    \n",
    "    print(f'\\n\\tNumber of different configuration: {len(ch_config_dict)}\\n')\n",
    "else:\n",
    "    print('\\n>>> There is only one EEG configuration in your dataset! <<<')\n",
    "\n",
    "# # print info per channel configuaration\n",
    "# for i, (config, participants) in enumerate(ch_config_dict.items(), 1):\n",
    "#     print(f'Configuration #{i} ({len(participants)} participants):')\n",
    "#     print(f'Channels ({len(config)}) : {config}\\n')"
   ]
  },
  {
   "cell_type": "markdown",
   "id": "089c6905-ebf9-4b4d-ae5e-6b210dcc4546",
   "metadata": {},
   "source": [
    "To inspect the participants ID in one configuration, run the cell just below after changing the parameter  \"configuration_to_inspect\"."
   ]
  },
  {
   "cell_type": "code",
   "execution_count": 12,
   "id": "233e9c0b-321f-420d-8161-53561474be52",
   "metadata": {
    "scrolled": true
   },
   "outputs": [
    {
     "data": {
      "application/vnd.jupyter.widget-view+json": {
       "model_id": "27ac822594a44cde83a6ca13fe0a0695",
       "version_major": 2,
       "version_minor": 0
      },
      "text/plain": [
       "interactive(children=(IntSlider(value=1, continuous_update=False, description='Selected configuration:', layou…"
      ]
     },
     "metadata": {},
     "output_type": "display_data"
    }
   ],
   "source": [
    "# widget to select the configuration of interest\n",
    "config_ch_slider = mk_config_slider(value = 1, min = 1, max = len(ch_config_dict))\n",
    "\n",
    "# print the configuration selected\n",
    "# interact with the slider output through the printing function \n",
    "widgets.interact(lambda i: print_config(i, config_dict=ch_config_dict, param=\"Channels\"), i=config_ch_slider);"
   ]
  },
  {
   "cell_type": "markdown",
   "id": "38a7e4c3-6e5a-4b05-98e3-2183bf7b0e25",
   "metadata": {
    "jp-MarkdownHeadingCollapsed": true
   },
   "source": [
    "### 4.3 Inspect EEG sampling frequency"
   ]
  },
  {
   "cell_type": "markdown",
   "id": "063f44f5-bc03-46f7-ae35-401ec0e3ab12",
   "metadata": {},
   "source": [
    "Ideally, you expect to have only one sampling frequency for all the EEGs and participants. \\\n",
    "In practice, you might have different sampling frequencies across participants (especially with multicentric dataset).\\\n",
    "\\\n",
    "Each EEG analysis software handles multiple sampling frequencies (that can happen for EEG and EOG) within participants differently. For example:\n",
    "- MNE python will automatically upsample channels to the highest sampling frequency\n",
    "- Fieldtrip will load only a subset of channels (with the sampling frequency the most represented)   "
   ]
  },
  {
   "cell_type": "code",
   "execution_count": 13,
   "id": "87a23e13-8c7f-4cb1-af1d-a97a5b828e20",
   "metadata": {},
   "outputs": [
    {
     "name": "stdout",
     "output_type": "stream",
     "text": [
      "\n",
      ">>> There is multiple sampling frequency for EEGs in your dataset! <<<\n",
      "\n",
      "\tNumber of different sampling frequency configuration: 2\n",
      "\n",
      "Quick overlook of the EEGs associated to sampling frequencies:\n",
      "\n",
      "256 Hz: ['Fp1' 'Fp2' 'F3' 'T7/T3' 'C3' 'Cz' 'C4' 'T8/T4' 'A1' 'A2' 'O1' 'O2' 'F7'\n",
      " 'F4' 'P7/T5' 'P3' 'P4' 'P8/T6' 'Pz' 'Fp1-A2' 'C3-A2' 'O1-A2' 'T3' 'T4']\n",
      "\n",
      "400 Hz: ['FP1-A2' 'C3-A2' 'O1-A2' 'FP2-A1' 'C4-A1' 'O2-A1' 'T3-A2' 'T4-A1']\n"
     ]
    }
   ],
   "source": [
    "# the sampling frequency configuration\n",
    "sf_per_sub = df_ch.groupby('subject')['sampling_frequency'].apply(lambda x: tuple(sorted(set(x))))\n",
    "# identify the sampling frequency configuration of each participant and store them in a dict to print per sampling configuration config\n",
    "sf_config_dict = {}\n",
    "for config in sf_per_sub.unique():\n",
    "    sub = sf_per_sub[sf_per_sub == config].index.tolist()\n",
    "    sf_config_dict[config] = sub\n",
    "\n",
    "# print info per sf configuration (maybe print it only for multiple config)\n",
    "if len(sf_config_dict) > 1:\n",
    "    print('\\n>>> There is multiple sampling frequency for EEGs in your dataset! <<<')    \n",
    "    print(f'\\n\\tNumber of different sampling frequency configuration: {len(sf_config_dict)}\\n')\n",
    "    print('Quick overlook of the EEGs associated to sampling frequencies:')\n",
    "    for s, sf in enumerate(df_ch['sampling_frequency'].unique()):\n",
    "        # select only rows with the current sf\n",
    "        df_sf = df_ch[df_ch['sampling_frequency'] == sf].copy()\n",
    "        print(f'\\n{sf} Hz: {df_sf[\"channel\"].unique()}')\n",
    "else:\n",
    "    print(f'\\n>>> There is only one sampling frequency for EEGs in your dataset: {df_ch['sampling_frequency'].unique()} <<<')\n",
    "\n",
    "# print('\\nSampling frequency configurations:\\n')\n",
    "# for i, (config, participants) in enumerate(sf_config_dict.items(), 1):\n",
    "#     print(f'Configuration #{i} ({len(participants)} participants):')\n",
    "#     print(f'Sampling frequency ({len(config)}) : {config}\\n')"
   ]
  },
  {
   "cell_type": "markdown",
   "id": "49730cce-9c23-48da-afbd-2d63f0774c94",
   "metadata": {},
   "source": [
    "To inspect the participants ID in one configuration, run the cell just below after changing the parameter  \"configuration_to_inspect\"."
   ]
  },
  {
   "cell_type": "code",
   "execution_count": 14,
   "id": "c2cdcf25-4bc4-44db-abf9-b697c963f721",
   "metadata": {},
   "outputs": [
    {
     "data": {
      "application/vnd.jupyter.widget-view+json": {
       "model_id": "3488b6a70d354e33a99ff2fb0fd10093",
       "version_major": 2,
       "version_minor": 0
      },
      "text/plain": [
       "interactive(children=(IntSlider(value=1, continuous_update=False, description='Selected configuration:', layou…"
      ]
     },
     "metadata": {},
     "output_type": "display_data"
    }
   ],
   "source": [
    "# widget to select the configuration of interest\n",
    "config_sf_slider = mk_config_slider(value = 1, min = 1, max = len(sf_config_dict))\n",
    "\n",
    "# print the configuration selected\n",
    "# interact with the slider output through the printing function \n",
    "widgets.interact(lambda i: print_config(i, config_dict=sf_config_dict, param=\"Sampling frequencies\"), i=config_sf_slider);"
   ]
  },
  {
   "cell_type": "markdown",
   "id": "e2e85239-2e34-429c-9ddd-192e2dab65a9",
   "metadata": {
    "jp-MarkdownHeadingCollapsed": true
   },
   "source": [
    "### 4.4 Inspect EEG filtering parameters"
   ]
  },
  {
   "cell_type": "markdown",
   "id": "08319a27-d470-44c1-b589-875cb7512049",
   "metadata": {},
   "source": [
    "Ideally with EEG sleep data, you want no lowpass nor notch filter, and a very low highpass filter around 0.05 Hz (to remove slow drift in long recordings)."
   ]
  },
  {
   "cell_type": "code",
   "execution_count": 15,
   "id": "b553a505-1807-4ecf-bf4e-71b6b8782387",
   "metadata": {},
   "outputs": [
    {
     "name": "stdout",
     "output_type": "stream",
     "text": [
      "\n",
      ">>> Filtering parameters are not fully consistent in EEGs across the dataset! <<<\n",
      "\n",
      "\tNumber of different EEG filters configurations: 3\n",
      "\n"
     ]
    }
   ],
   "source": [
    "if len(df_ch['highpass'].unique())+len(df_ch['lowpass'].unique())+len(df_ch['notch'].unique()) == 3:\n",
    "    print('\\n>>> All EEGs have the same filtering parameters! <<<')\n",
    "elif len(df_ch['highpass'].unique())+len(df_ch['lowpass'].unique())+len(df_ch['notch'].unique()) > 3:\n",
    "    print('\\n>>> Filtering parameters are not fully consistent in EEGs across the dataset! <<<')\n",
    "else:\n",
    "    print('\\n>>> There may have been a problem in reading the filtering parameters. Here is the output: <<<')\n",
    "\n",
    "# Get the list of participants with different filtering parameters\n",
    "# 1st replace NaN because groupby does not like NaN\n",
    "df_filt = df_ch.copy()\n",
    "df_filt[['lowpass', 'highpass', 'notch']] = df_filt[['lowpass', 'highpass', 'notch']].fillna('missing')\n",
    "\n",
    "config_filters = (\n",
    "    df_filt.groupby(['lowpass', 'highpass', 'notch'])['subject']\n",
    "    .apply(lambda x: sorted(set(x)))\n",
    "    .reset_index(name = 'subjects')\n",
    ")\n",
    "\n",
    "# print filter configuration\n",
    "print(f'\\n\\tNumber of different EEG filters configurations: {len(config_filters)}\\n')\n",
    "# print('\\nFilters configurations: ')\n",
    "# r=1\n",
    "# for row in config_filters.itertuples(index=False):\n",
    "#     print(f'Configuration #{r} ({len(row.subjects)} participants)')\n",
    "#     print(f'highpass: {row.highpass}, lowpass: {row.lowpass}, notch: {row.notch}\\n')\n",
    "#     r=r+1\n"
   ]
  },
  {
   "cell_type": "markdown",
   "id": "3ded87ff-dd63-409a-b15c-a253213e9784",
   "metadata": {},
   "source": [
    "To inspect the participants ID in one configuration, run the cell just below after changing the parameter  \"configuration_to_inspect\"."
   ]
  },
  {
   "cell_type": "code",
   "execution_count": 16,
   "id": "92f080cb-0bf0-45ce-ac69-f72f8fe4edc1",
   "metadata": {},
   "outputs": [
    {
     "data": {
      "application/vnd.jupyter.widget-view+json": {
       "model_id": "da43ce822d8b48e9bfa941c696dee77f",
       "version_major": 2,
       "version_minor": 0
      },
      "text/plain": [
       "interactive(children=(IntSlider(value=1, continuous_update=False, description='Selected configuration:', layou…"
      ]
     },
     "metadata": {},
     "output_type": "display_data"
    }
   ],
   "source": [
    "# widget to select the configuration of interest\n",
    "config_filter_slider = mk_config_slider(value = 1, min = 1, max = len(config_filters))\n",
    "\n",
    "# function to rpint filters configurations\n",
    "def print_filters(config_slider):\n",
    "    # get the info from the dataframe\n",
    "    idx = config_slider - 1\n",
    "    sID = config_filters.iloc[idx]['subjects']\n",
    "    hpass = config_filters.iloc[idx]['highpass']\n",
    "    lpass = config_filters.iloc[idx]['lowpass']\n",
    "    notch = config_filters.iloc[idx]['notch']\n",
    "    \n",
    "    # print info\n",
    "    print(f'Selected configuration: # {config_slider}')\n",
    "    print(f'\\tFilters configuration: highpass: {hpass}; lowpass: {lpass}; notch: {notch}')\n",
    "    print(f'\\t{len(sID)} participants: {sID}')\n",
    "\n",
    "widgets.interact(print_filters, config_slider = config_filter_slider);"
   ]
  },
  {
   "cell_type": "markdown",
   "id": "4f9c8623-a3a3-4ebe-a94f-73faf82e6a7a",
   "metadata": {
    "jp-MarkdownHeadingCollapsed": true
   },
   "source": [
    "### 4.5 Inspect EEG units"
   ]
  },
  {
   "cell_type": "markdown",
   "id": "9ed44982-de48-4222-a2e3-0ef7b323bae6",
   "metadata": {},
   "source": [
    "At the exportation, channels can be imported in different units. \\\n",
    "Each analysis software will handle units differently, so it can be helpful to know which units your dataset contains. \n",
    "- MNE python will automatically detect the units and convert the data to Volt. However, if the unit is not read correctly, the data will **not** be converted (e.g. \"UV\" is not interpredted as uV, therefore data are not converted to Volt )\n",
    "- fieldtrip is loading the data with their unit of origin, so you might want to convert all channels to the same unit before your analysis  "
   ]
  },
  {
   "cell_type": "code",
   "execution_count": 17,
   "id": "c2ffc618-1e2d-48de-be65-d0f81c87be3f",
   "metadata": {},
   "outputs": [
    {
     "name": "stdout",
     "output_type": "stream",
     "text": [
      "\n",
      ">>> Multiple units were found! <<<\n",
      "\n",
      "\tNumber of different units configurations: 2\n",
      "\n",
      "Quick overlook of channels associated to units:\n",
      "\n",
      "uV: ['Fp1' 'Fp2' 'F3' 'T7/T3' 'C3' 'Cz' 'C4' 'T8/T4' 'A1' 'A2' 'O1' 'O2' 'F7'\n",
      " 'F4' 'P7/T5' 'P3' 'P4' 'P8/T6' 'Pz' 'Fp1-A2' 'C3-A2' 'O1-A2' 'T3' 'T4']\n",
      "\n",
      "UV: ['FP1-A2' 'C3-A2' 'O1-A2' 'FP2-A1' 'C4-A1' 'O2-A1' 'T3-A2' 'T4-A1']\n"
     ]
    }
   ],
   "source": [
    "if len(df_ch['dimension'].unique()) == 1:\n",
    "    print(f'\\n>>> All EEGs have the same unit: {df_ch[\"dimension\"].unique()} <<<\\n')\n",
    "elif len(df_ch['dimension'].unique()) > 1:\n",
    "    print('\\n>>> Multiple units were found! <<<')\n",
    "    print(f'\\n\\tNumber of different units configurations: {len(df_ch['dimension'].unique())}\\n')\n",
    "    print('Quick overlook of EEGs associated to units:')\n",
    "    for u, unit in enumerate(df_ch['dimension'].unique()):\n",
    "        # select only rows with the current sf\n",
    "        df_unit = df_ch[df_ch['dimension'] == unit].copy()\n",
    "        print(f'\\n{unit}: {df_unit[\"channel\"].unique()}')\n",
    "    \n",
    "\n",
    "# print the different configuration of units \n",
    "# if info about sf configuration is needed\n",
    "unit_per_sub = df_ch.groupby('subject')['dimension'].apply(lambda x: tuple(sorted(set(x))))\n",
    "ch_per_unit = df_ch.groupby('dimension')['channel'].apply(lambda x: tuple(sorted(set(x))))\n",
    "# identify the sampling frequency configuration of each participant and store them in a dict to print per sampling configuration config\n",
    "unit_config_dict = {}\n",
    "for config in unit_per_sub.unique():\n",
    "    sub = unit_per_sub[unit_per_sub == config].index.tolist()\n",
    "    unit_config_dict[config] = sub\n",
    "\n",
    "# print info per sf configuration\n",
    "# print('\\nUnits configurations:')\n",
    "# for i, (config, participants) in enumerate(unit_config_dict.items(), 1):\n",
    "#     print(f'Configuration #{i} ({len(participants)} participants):')\n",
    "#     print(f'Unit ({len(config)}) : {config}\\n')\n",
    "#     # print(f\"Participants : {participants}\\n\")"
   ]
  },
  {
   "cell_type": "markdown",
   "id": "7a472b7c-c413-485b-8c62-73bcf20d2c00",
   "metadata": {},
   "source": [
    "To inspect the participants ID in one configuration, run the cell just below after changing the parameter  \"configuration_to_inspect\"."
   ]
  },
  {
   "cell_type": "code",
   "execution_count": 18,
   "id": "4b79f538-1c2b-45f8-8b0f-06874c4352f4",
   "metadata": {},
   "outputs": [
    {
     "data": {
      "application/vnd.jupyter.widget-view+json": {
       "model_id": "d264fdbc66754fb7999fba56e3c6faa2",
       "version_major": 2,
       "version_minor": 0
      },
      "text/plain": [
       "interactive(children=(IntSlider(value=1, continuous_update=False, description='Selected configuration:', layou…"
      ]
     },
     "metadata": {},
     "output_type": "display_data"
    }
   ],
   "source": [
    "# widget to select the configuration of interest\n",
    "config_unit_slider = mk_config_slider(value = 1, min = 1, max = len(unit_config_dict))\n",
    "\n",
    "# print the configuration selected\n",
    "# interact with the slider output through the printing function \n",
    "widgets.interact(lambda i: print_config(i, config_dict=unit_config_dict, param=\"Units\"), i=config_unit_slider);"
   ]
  },
  {
   "cell_type": "markdown",
   "id": "c01871a8-6bca-4642-8262-66c5737d43cc",
   "metadata": {
    "jp-MarkdownHeadingCollapsed": true
   },
   "source": [
    "### 4.6 Inspect EEG signal inversion"
   ]
  },
  {
   "cell_type": "markdown",
   "id": "1761b1c6-ac72-4c39-a8b6-f385dba0f0f9",
   "metadata": {},
   "source": [
    "Some softwares (e.g. profusion from compumedics) allows to invert the polarity of the exported data. It can be extremely confusing and can lead to wrong results. \\\n",
    "Here, we inspect if the signal is inverted by checking if the minimum physical boundary is higher than the maximum physical boundary. \\\n",
    "For .edf file, the physical boundaries are values that are set when exporting the data by specifying the scale of the data. \\\n",
    "\\\n",
    "In profusion (from compumedics) a scale of 1mV will lead to a min physical boundary of -500 uV and a max physical boundary of +500 uV.\\\n",
    "\\\n",
    "For other EEG format and software, the dynamical range might be set before recording (e.g. to be specified in the montage) and can't be changed at the exportation."
   ]
  },
  {
   "cell_type": "code",
   "execution_count": 19,
   "id": "1661b24f-eb0c-4787-ad96-538004d08ec6",
   "metadata": {},
   "outputs": [
    {
     "name": "stdout",
     "output_type": "stream",
     "text": [
      "\n",
      ">>> No inverted polarity was detected in EEGs <<<\n",
      "\n",
      "Saving informations from EEG inverted polarity channels to:\n",
      "C:\\Users\\yvan.nedelec\\OneDrive - ICM\\Documents\\RE_yvan\\projects\\ICEBERG\\PSG/summary/EEG_inverted_polarity_edf.tsv \n",
      "(will be empty if no inverted polarity)\n"
     ]
    }
   ],
   "source": [
    "# select rows where the physical min is greater than the physical max\n",
    "df_inv = df_ch[df_ch['physical_min'] > df_ch['physical_max']]\n",
    "\n",
    "if not df_inv.empty:\n",
    "    print('\\n>>> Inverted polarity detected in EEGs! <<<')\n",
    "    print(f'{df_inv.shape[0]} EEGs have an inverted polarity (from {df_ch.shape[0]} EEGs in {len(edf_files)} edf files)')\n",
    "    print(df_inv[['subject', 'channel', 'dimension', 'physical_min', 'physical_max']])\n",
    "else:\n",
    "    print('\\n>>> No inverted polarity was detected in EEGs <<<')\n",
    "df_inv.to_csv(f'{summary_path}/EEG_inverted_polarity_edf.tsv', sep = '\\t')\n",
    "print(f'\\nSaving informations from inverted polarity EEGs to:\\n{summary_path}/EEG_inverted_polarity_edf.tsv \\n(will be empty if no inverted polarity)')\n"
   ]
  },
  {
   "cell_type": "markdown",
   "id": "ba40bd84-ccc9-4f33-b7a5-9cdf69c49860",
   "metadata": {
    "jp-MarkdownHeadingCollapsed": true
   },
   "source": [
    "### 4.7 Inspect EEG theoretical resolution"
   ]
  },
  {
   "cell_type": "markdown",
   "id": "3dfc718a-33cd-45db-a431-39905dd59c3f",
   "metadata": {},
   "source": [
    "The theoretical resolution of .edf file is the minimum amplitude variation that can be recorded between two samples. \\\n",
    "Since .edf file is a 16-bit compressed format (meaning that a datapoint can take 2^16 value between a min and a max), we computed the theoretical resolution by dividing the dynamical range (upper/lower physical boundaries)  by 2^16. \\\n",
    "Ideally, resolution should be around 0.01 uV (or lower). \\\n",
    "\\\n",
    "Hence, to improve the theoretical resolution, we can reduce the min and max values of the dynamic range. However, reducing the dynamic range can lead to loss of data information (because the signal can't get higher or lower than the boundaries), an issue called signal clipping.\\\n",
    "\\\n",
    "Below, we detect EEGs that have a resolution higher than 0.1 uV.\\\n",
    "You can change the resolution threshold with the widget:"
   ]
  },
  {
   "cell_type": "code",
   "execution_count": 20,
   "id": "5555defd-0390-4578-9808-21a28ffc3114",
   "metadata": {},
   "outputs": [
    {
     "data": {
      "application/vnd.jupyter.widget-view+json": {
       "model_id": "4fe69366dbdf48a39e9e1175c69069a7",
       "version_major": 2,
       "version_minor": 0
      },
      "text/plain": [
       "interactive(children=(BoundedFloatText(value=0.1, description='Resolution threshold (uV):', layout=Layout(widt…"
      ]
     },
     "metadata": {},
     "output_type": "display_data"
    }
   ],
   "source": [
    "# res_theo have been converted to uV, but if dimension was not read or not indicated in the headers, it might not work. I might need to add something more robust\n",
    "r_thres = widgets.BoundedFloatText(\n",
    "    value=0.1,\n",
    "    min=0,\n",
    "    max=10.0,\n",
    "    step=0.1,\n",
    "    style={'description_width': '150px'},  # augmente la largeur de la description\n",
    "    layout=widgets.Layout(width='230px'),   # ajuste la taille totale du widget si besoin\n",
    "    description='Resolution threshold (uV):',\n",
    "    disabled=False\n",
    ");\n",
    "\n",
    "# define a function to interact with the widget\n",
    "def check_bad_res(threshold):\n",
    "    r_mask = df_ch['res_theoretical'] >= threshold\n",
    "    bad_res = df_ch[r_mask]\n",
    "    \n",
    "    if not bad_res.empty:\n",
    "        print(f'\\n>>> Poor resolution detected in EEGs! (>= {threshold} uV) <<<')\n",
    "        print(f'{bad_res.shape[0]} EEGs have a very poor resolution (from {df_ch.shape[0]} EEGs in {len(edf_files)} edf files)')\n",
    "        print(bad_res[['subject', 'channel', 'dimension', 'physical_min', 'physical_max', 'res_theoretical']])\n",
    "    else:\n",
    "        print(f'\\n>>> No EEG with a poor resolution (>= {threshold} uV) was detected! <<<')\n",
    "    bad_res.to_csv(f'{summary_path}/EEG_bad_resolution_edf.tsv', sep = '\\t')\n",
    "    print(f'\\nSaving informations from bad resolution EEGs to:\\n{summary_path}/EEG_bad_resolution_edf.tsv \\n(will be empty if no bad resolution)')\n",
    "\n",
    "widgets.interact(check_bad_res, threshold=r_thres);"
   ]
  },
  {
   "cell_type": "markdown",
   "id": "4e52b08f-3070-4184-b6ad-5c625401d1ce",
   "metadata": {
    "jp-MarkdownHeadingCollapsed": true
   },
   "source": [
    "### 4.8 Inspect EEG dynamic range"
   ]
  },
  {
   "cell_type": "markdown",
   "id": "f995de14-a19d-44cf-ab2a-53ae0a40e6d5",
   "metadata": {},
   "source": [
    "As mentionned above, a small dynamic range will lead to a good signal resolution, but can lead to signal clipping.\\\n",
    "Signal clipping happens when the signal reach the physical boundaries (min or max) and therefore is blocked at this value. It results in a loss of data information.\\\n",
    "\\\n",
    "Typical physiological EEG data (good quality) varies from +/-200 uV.\\\n",
    "Below, we check if the dynamic range physical boundaries are lower than 400 uV (+/- 200 uV). \\\n",
    "You can change the dynamic range threshold with the widget:"
   ]
  },
  {
   "cell_type": "code",
   "execution_count": 21,
   "id": "e6314a71-8c6d-4819-9ea0-0d3db1ee91ea",
   "metadata": {},
   "outputs": [
    {
     "data": {
      "application/vnd.jupyter.widget-view+json": {
       "model_id": "16b112bf1da04bb2ac7124e340a9b5e9",
       "version_major": 2,
       "version_minor": 0
      },
      "text/plain": [
       "interactive(children=(BoundedFloatText(value=400.0, description='Dynamic range threshold (uV):', layout=Layout…"
      ]
     },
     "metadata": {},
     "output_type": "display_data"
    }
   ],
   "source": [
    "dr_thres = widgets.BoundedFloatText(\n",
    "    value=400,\n",
    "    min=0,\n",
    "    max=5000,\n",
    "    step=0.1,\n",
    "    style={'description_width': '200px'},  # augmente la largeur de la description\n",
    "    layout=widgets.Layout(width='270px'),   # ajuste la taille totale du widget si besoin\n",
    "    description='Dynamic range threshold (uV):',\n",
    "    disabled=False\n",
    ");\n",
    "\n",
    "\n",
    "def check_bad_dr(threshold):\n",
    "    dr_mask = df_ch['res_theoretical']*pow(2,16) <= threshold\n",
    "    bad_dr = df_ch[dr_mask]\n",
    "    \n",
    "    if not bad_dr.empty:\n",
    "        print(f'\\n>>> Small dynamic range detected in EEGs! (<= {threshold} uV) <<<\\n')\n",
    "        print(f'{bad_dr.shape[0]} EEGs have a small dynamic range (from {df_ch.shape[0]} EEGs in {len(edf_files)} edf files)')\n",
    "        print(bad_dr[['subject', 'channel', 'dimension', 'physical_min', 'physical_max', 'res_theoretical']])\n",
    "    else:\n",
    "        print(f'\\n>>> No EEG with a small dynamic range(<= {threshold} uV) was detected! <<<')\n",
    "    bad_dr.to_csv(f'{summary_path}/EEG_bad_dynamic_range_edf.tsv', sep = '\\t')\n",
    "    print(f'\\nSaving informations from bad dynamic range EEGs to:\\n{summary_path}/EEG_bad_dynamic_range_edf.tsv \\n(will be empty if no bad resolution)')\n",
    "\n",
    "widgets.interact(check_bad_dr, threshold = dr_thres);"
   ]
  },
  {
   "cell_type": "markdown",
   "id": "3b3ab2fc-79e6-4c30-8155-ed45ec27ce6a",
   "metadata": {},
   "source": [
    "## 5. Inspect EOG"
   ]
  },
  {
   "cell_type": "markdown",
   "id": "73a154cb-34df-49cd-bc64-6dba5dfa5752",
   "metadata": {
    "jp-MarkdownHeadingCollapsed": true
   },
   "source": [
    "### 5.1 Select only EOGs"
   ]
  },
  {
   "cell_type": "code",
   "execution_count": 22,
   "id": "c5eda13e-1ed6-41e1-b9e7-ffe670ce9ee2",
   "metadata": {},
   "outputs": [
    {
     "name": "stdout",
     "output_type": "stream",
     "text": [
      "\n",
      "Saving informations from EOG channels to:\n",
      "C:\\Users\\yvan.nedelec\\OneDrive - ICM\\Documents\\RE_yvan\\projects\\ICEBERG\\PSG/summary/EOG_summary_table.tsv\n"
     ]
    }
   ],
   "source": [
    "# select only EOGs and return a warning if the number of participant is smaller/higher\n",
    "mask_eog = df_full['channel'].str.contains(r'EOG', case = False, na=False) # create a mask that returns true for lines containing either EOG in the channel column\n",
    "df_eog = df_full[mask_eog]\n",
    "# remove the emg channels that were captured with the AGAGCL ELECTRODE transducer type \n",
    "# df_eog = df_eog[~df_eog['channel'].str.contains(r'emg|ecg|eeg|a1|a2', case=False, na=False)] # the ~ allows to not select the selection (like ! in matlab)\n",
    "\n",
    "# Check if the number of participants with only EOG is the same as df_full. \n",
    "# If not, it might be because the transducer type was no correctly detected. \n",
    "# One possibility is to add the type of transducer to the condition line 2 of this cell.\n",
    "if len(df_full['subject'].unique()) > len(df_eog['subject'].unique()):\n",
    "    # identify missing subjects\n",
    "    missing_sub = set(df_full['subject'].unique()) - set(df_eog['subject'].unique())\n",
    "    print('\\n!!! There is less participants in the dataset with only EOGs !!!')\n",
    "    print(f'Missing participants: {missing_sub}')\n",
    "    print(\"\\nEither these participants don't have EOGs.\")\n",
    "    print(\"Or the transducer type was not correctly detected.\")\n",
    "    # get df of missing sub to save and inspect\n",
    "    df_eogmiss = df_full[df_full['subject'].isin(missing_sub)]\n",
    "    df_eogmiss.to_csv(f'{summary_path}/EOG_missing_edf.tsv', sep = '\\t')\n",
    "    print(f'\\nSaving informations from missing participants to:\\n{summary_path}/EOG_missing_edf.tsv')\n",
    "    print('Please inspect the file, and specifically the column transducer_type')\n",
    "elif len(df_full['subject'].unique()) < len(df_eog['subject'].unique()):\n",
    "    print('\\n!!! There is more participants in the dataset with only EOGs !!!')\n",
    "    print('This should not be the case.')\n",
    "    print('Please inspect what is happening in a code editor (spyder..), or ask Yvan.')\n",
    "    more_sub = set(df_eog['subject'].unique()) - set(df_full['subject'].unique())\n",
    "    df_more = df_eog[df_eog['subject'].isin(more_sub)]\n",
    "    df_more.to_csv(f'{summary_path}/EOG_suspect_edf.csv', sep = '\\t')\n",
    "    print(f'\\nSaving informations from suspect participants to:\\n{summary_path}/EOG_suspect_edf.tsv')\n",
    "\n",
    "# saving info from EOG\n",
    "df_eog.to_csv(f'{summary_path}/EOG_summary_table.tsv', sep = '\\t')\n",
    "print(f'\\nSaving informations from EOGs to:\\n{summary_path}/EOG_summary_table.tsv')"
   ]
  },
  {
   "cell_type": "markdown",
   "id": "89ea70be-3298-4648-8f5f-0f074252632d",
   "metadata": {
    "jp-MarkdownHeadingCollapsed": true
   },
   "source": [
    "### 5.2 Inspect EOG configurations"
   ]
  },
  {
   "cell_type": "code",
   "execution_count": 23,
   "id": "caee87d7-45e7-4a12-a718-9de5c6cf0dab",
   "metadata": {},
   "outputs": [
    {
     "name": "stdout",
     "output_type": "stream",
     "text": [
      "\n",
      ">>> There is multiple EOG configurations in your dataset! <<<\n",
      "\n",
      "\tNumber of different channels configuration: 2\n",
      "\n"
     ]
    }
   ],
   "source": [
    "# get the EOG configuration per participant \n",
    "ch_per_sub = df_eog.groupby('subject')['channel'].apply(lambda x: tuple(sorted(set(x))))\n",
    "\n",
    "# identify the EOG configuration of each participant and store them in a dict to print per EOG config\n",
    "ch_config_dict = {}\n",
    "for config in ch_per_sub.unique():\n",
    "    sub = ch_per_sub[ch_per_sub == config].index.tolist()\n",
    "    ch_config_dict[config] = sub\n",
    "\n",
    "if len(ch_config_dict) > 1:\n",
    "    print('\\n>>> There is multiple EOG configurations in your dataset! <<<')    \n",
    "    print(f'\\n\\tNumber of different configuration: {len(ch_config_dict)}\\n')\n",
    "else:\n",
    "    print('\\n>>> There is only one EOG configuration in your dataset! <<<')\n",
    "\n",
    "# # print info per channel configuaration\n",
    "# for i, (config, participants) in enumerate(ch_config_dict.items(), 1):\n",
    "#     print(f'Configuration #{i} ({len(participants)} participants):')\n",
    "#     print(f'Channels ({len(config)}) : {config}\\n')"
   ]
  },
  {
   "cell_type": "code",
   "execution_count": 24,
   "id": "0449b2ba-e7c7-4a85-9e24-77b5fa8dc212",
   "metadata": {},
   "outputs": [
    {
     "data": {
      "application/vnd.jupyter.widget-view+json": {
       "model_id": "e1b9fc70d29d482fa814eb9160feba80",
       "version_major": 2,
       "version_minor": 0
      },
      "text/plain": [
       "interactive(children=(IntSlider(value=1, continuous_update=False, description='Selected configuration:', layou…"
      ]
     },
     "metadata": {},
     "output_type": "display_data"
    }
   ],
   "source": [
    "# widget to select the configuration of interest\n",
    "config_ch_slider = mk_config_slider(value = 1, min = 1, max = len(ch_config_dict))\n",
    "\n",
    "# print the configuration selected\n",
    "# interact with the slider output through the printing function \n",
    "widgets.interact(lambda i: print_config(i, config_dict=ch_config_dict, param=\"Channels\"), i=config_ch_slider);"
   ]
  },
  {
   "cell_type": "markdown",
   "id": "a05198e3-a809-4bc4-a105-e9bfadf22695",
   "metadata": {
    "jp-MarkdownHeadingCollapsed": true
   },
   "source": [
    "### 5.3 Inspect EOG sampling frequencies"
   ]
  },
  {
   "cell_type": "code",
   "execution_count": 25,
   "id": "9d711eb5-b511-474e-9257-e2bcc6566fbc",
   "metadata": {},
   "outputs": [
    {
     "name": "stdout",
     "output_type": "stream",
     "text": [
      "\n",
      ">>> There is multiple sampling frequency for EOGs in your dataset! <<<\n",
      "\n",
      "\tNumber of different sampling frequency configuration: 3\n",
      "\n",
      "Quick overlook of the EOGs associated to sampling frequencies:\n",
      "\n",
      "256 Hz: ['EOG G' 'EOG D']\n",
      "\n",
      "400 Hz: ['EOG1' 'EOG2']\n",
      "\n",
      "128 Hz: ['EOG D' 'EOG G']\n"
     ]
    }
   ],
   "source": [
    "# the sampling frequency configuration\n",
    "sf_per_sub = df_eog.groupby('subject')['sampling_frequency'].apply(lambda x: tuple(sorted(set(x))))\n",
    "# identify the sampling frequency configuration of each participant and store them in a dict to print per sampling configuration config\n",
    "sf_config_dict = {}\n",
    "for config in sf_per_sub.unique():\n",
    "    sub = sf_per_sub[sf_per_sub == config].index.tolist()\n",
    "    sf_config_dict[config] = sub\n",
    "\n",
    "# print info per sf configuration (maybe print it only for multiple config)\n",
    "if len(sf_config_dict) > 1:\n",
    "    print('\\n>>> There is multiple sampling frequency for EOGs in your dataset! <<<')    \n",
    "    print(f'\\n\\tNumber of different sampling frequency configuration: {len(sf_config_dict)}\\n')\n",
    "    print('Quick overlook of the EOGs associated to sampling frequencies:')\n",
    "    for s, sf in enumerate(df_eog['sampling_frequency'].unique()):\n",
    "        # select only rows with the current sf\n",
    "        df_sf = df_eog[df_eog['sampling_frequency'] == sf].copy()\n",
    "        print(f'\\n{sf} Hz: {df_sf[\"channel\"].unique()}')\n",
    "else:\n",
    "    print(f'\\n>>> There is only one sampling frequency for EOGs in your dataset: {df_eog['sampling_frequency'].unique()} <<<')\n",
    "\n",
    "# print('\\nSampling frequency configurations:\\n')\n",
    "# for i, (config, participants) in enumerate(sf_config_dict.items(), 1):\n",
    "#     print(f'Configuration #{i} ({len(participants)} participants):')\n",
    "#     print(f'Sampling frequency ({len(config)}) : {config}\\n')"
   ]
  },
  {
   "cell_type": "code",
   "execution_count": 26,
   "id": "55beab23-6663-4f62-a590-610117b8a421",
   "metadata": {},
   "outputs": [
    {
     "data": {
      "application/vnd.jupyter.widget-view+json": {
       "model_id": "88c117dcca1240ec9f62d142e109795b",
       "version_major": 2,
       "version_minor": 0
      },
      "text/plain": [
       "interactive(children=(IntSlider(value=1, continuous_update=False, description='Selected configuration:', layou…"
      ]
     },
     "metadata": {},
     "output_type": "display_data"
    }
   ],
   "source": [
    "# widget to select the configuration of interest\n",
    "config_sf_slider = mk_config_slider(value = 1, min = 1, max = len(sf_config_dict))\n",
    "\n",
    "# print the configuration selected\n",
    "# interact with the slider output through the printing function \n",
    "widgets.interact(lambda i: print_config(i, config_dict=sf_config_dict, param=\"Sampling frequencies\"), i=config_sf_slider);"
   ]
  },
  {
   "cell_type": "markdown",
   "id": "e94a1db4-4830-4a4f-8688-13e06fda9857",
   "metadata": {
    "jp-MarkdownHeadingCollapsed": true
   },
   "source": [
    "### 5.4 Inspect EOG filtering parameters"
   ]
  },
  {
   "cell_type": "code",
   "execution_count": 27,
   "id": "7d85f980-2ab7-455e-951a-e6371fe0ccb6",
   "metadata": {},
   "outputs": [
    {
     "name": "stdout",
     "output_type": "stream",
     "text": [
      "\n",
      ">>> Filtering parameters are not fully consistent across the dataset! <<<\n",
      "\n",
      "\tNumber of different EOG filters configurations: 3\n",
      "\n"
     ]
    }
   ],
   "source": [
    "if len(df_eog['highpass'].unique())+len(df_eog['lowpass'].unique())+len(df_eog['notch'].unique()) == 3:\n",
    "    print('\\n>>> All EOGs have the same filtering parameters! <<<')\n",
    "elif len(df_eog['highpass'].unique())+len(df_eog['lowpass'].unique())+len(df_eog['notch'].unique()) > 3:\n",
    "    print('\\n>>> Filtering parameters are not fully consistent across the dataset! <<<')\n",
    "else:\n",
    "    print('\\n>>> There may have been a problem in reading the filtering parameters. Here is the output: <<<')\n",
    "\n",
    "# Get the list of participants with different filtering parameters\n",
    "# 1st replace NaN because groupby does not like NaN\n",
    "df_filt = df_eog.copy()\n",
    "df_filt[['lowpass', 'highpass', 'notch']] = df_filt[['lowpass', 'highpass', 'notch']].fillna('missing')\n",
    "\n",
    "config_filters = (\n",
    "    df_filt.groupby(['lowpass', 'highpass', 'notch'])['subject']\n",
    "    .apply(lambda x: sorted(set(x)))\n",
    "    .reset_index(name = 'subjects')\n",
    ")\n",
    "\n",
    "# print filter configuration\n",
    "print(f'\\n\\tNumber of different EOG filters configurations: {len(config_filters)}\\n')\n",
    "# print('\\nFilters configurations: ')\n",
    "# r=1\n",
    "# for row in config_filters.itertuples(index=False):\n",
    "#     print(f'Configuration #{r} ({len(row.subjects)} participants)')\n",
    "#     print(f'highpass: {row.highpass}, lowpass: {row.lowpass}, notch: {row.notch}\\n')\n",
    "#     r=r+1"
   ]
  },
  {
   "cell_type": "code",
   "execution_count": 28,
   "id": "01823f26-2f09-4cd9-9a6e-b46c84162081",
   "metadata": {},
   "outputs": [
    {
     "data": {
      "application/vnd.jupyter.widget-view+json": {
       "model_id": "7a05523be4874bb8aeb7db53fb9eb999",
       "version_major": 2,
       "version_minor": 0
      },
      "text/plain": [
       "interactive(children=(IntSlider(value=1, continuous_update=False, description='Selected configuration:', layou…"
      ]
     },
     "metadata": {},
     "output_type": "display_data"
    }
   ],
   "source": [
    "# widget to select the configuration of interest\n",
    "config_filter_slider = mk_config_slider(value = 1, min = 1, max = len(config_filters))\n",
    "\n",
    "# function to rpint filters configurations\n",
    "def print_filters(config_slider):\n",
    "    # get the info from the dataframe\n",
    "    idx = config_slider - 1\n",
    "    sID = config_filters.iloc[idx]['subjects']\n",
    "    hpass = config_filters.iloc[idx]['highpass']\n",
    "    lpass = config_filters.iloc[idx]['lowpass']\n",
    "    notch = config_filters.iloc[idx]['notch']\n",
    "    \n",
    "    # print info\n",
    "    print(f'Selected configuration: # {config_slider}')\n",
    "    print(f'\\tFilters configuration: highpass: {hpass}; lowpass: {lpass}; notch: {notch}')\n",
    "    print(f'\\t{len(sID)} participants: {sID}')\n",
    "\n",
    "widgets.interact(print_filters, config_slider = config_filter_slider);"
   ]
  },
  {
   "cell_type": "markdown",
   "id": "6f7b374f-a67d-4c2c-8d51-3d221131b8bd",
   "metadata": {
    "jp-MarkdownHeadingCollapsed": true
   },
   "source": [
    "### 5.5 Inspect EOG units"
   ]
  },
  {
   "cell_type": "code",
   "execution_count": 29,
   "id": "ead498f2-7177-4e47-8df5-01c69abdc55c",
   "metadata": {},
   "outputs": [
    {
     "name": "stdout",
     "output_type": "stream",
     "text": [
      "\n",
      ">>> Multiple units were found! <<<\n",
      "\n",
      "\tNumber of different units configurations: 3\n",
      "\n",
      "Quick overlook of channels associated to units:\n",
      "\n",
      "mV: ['EOG G' 'EOG D']\n",
      "\n",
      "UV: ['EOG1' 'EOG2']\n",
      "\n",
      "uV: ['EOG D' 'EOG G']\n"
     ]
    }
   ],
   "source": [
    "if len(df_eog['dimension'].unique()) == 1:\n",
    "    print(f'\\n>>> All EOGs have the same unit: {df_eog[\"dimension\"].unique()} <<<\\n')\n",
    "elif len(df_eog['dimension'].unique()) > 1:\n",
    "    print('\\n>>> Multiple units were found! <<<')\n",
    "    print(f'\\n\\tNumber of different EOG units configurations: {len(df_eog['dimension'].unique())}\\n')\n",
    "    print('Quick overlook of EOGs associated to units:')\n",
    "    for u, unit in enumerate(df_eog['dimension'].unique()):\n",
    "        # select only rows with the current sf\n",
    "        df_unit = df_eog[df_eog['dimension'] == unit].copy()\n",
    "        print(f'\\n{unit}: {df_unit[\"channel\"].unique()}')\n",
    "    \n",
    "\n",
    "# print the different configuration of units \n",
    "# if info about sf configuration is needed\n",
    "unit_per_sub = df_eog.groupby('subject')['dimension'].apply(lambda x: tuple(sorted(set(x))))\n",
    "ch_per_unit = df_eog.groupby('dimension')['channel'].apply(lambda x: tuple(sorted(set(x))))\n",
    "# identify the sampling frequency configuration of each participant and store them in a dict to print per sampling configuration config\n",
    "unit_config_dict = {}\n",
    "for config in unit_per_sub.unique():\n",
    "    sub = unit_per_sub[unit_per_sub == config].index.tolist()\n",
    "    unit_config_dict[config] = sub\n",
    "\n",
    "# print info per sf configuration\n",
    "# print('\\nUnits configurations:')\n",
    "# for i, (config, participants) in enumerate(unit_config_dict.items(), 1):\n",
    "#     print(f'Configuration #{i} ({len(participants)} participants):')\n",
    "#     print(f'Unit ({len(config)}) : {config}\\n')\n",
    "#     # print(f\"Participants : {participants}\\n\")"
   ]
  },
  {
   "cell_type": "code",
   "execution_count": 30,
   "id": "068c7788-7426-4c55-a262-cb0439e2ca01",
   "metadata": {},
   "outputs": [
    {
     "data": {
      "application/vnd.jupyter.widget-view+json": {
       "model_id": "6c7326d1b18a4b5f83c776f7d18ce84e",
       "version_major": 2,
       "version_minor": 0
      },
      "text/plain": [
       "interactive(children=(IntSlider(value=1, continuous_update=False, description='Selected configuration:', layou…"
      ]
     },
     "metadata": {},
     "output_type": "display_data"
    }
   ],
   "source": [
    "# widget to select the configuration of interest\n",
    "config_unit_slider = mk_config_slider(value = 1, min = 1, max = len(unit_config_dict))\n",
    "\n",
    "# print the configuration selected\n",
    "# interact with the slider output through the printing function \n",
    "widgets.interact(lambda i: print_config(i, config_dict=unit_config_dict, param=\"Units\"), i=config_unit_slider);"
   ]
  },
  {
   "cell_type": "markdown",
   "id": "0f47a3b7-87c6-4e91-99e2-f9efda9e08a7",
   "metadata": {
    "jp-MarkdownHeadingCollapsed": true
   },
   "source": [
    "### 5.6 Inspect EOG signal inversion"
   ]
  },
  {
   "cell_type": "code",
   "execution_count": 31,
   "id": "9b2c3906-fae3-4702-b6f8-8c6e9b8a3e20",
   "metadata": {},
   "outputs": [
    {
     "name": "stdout",
     "output_type": "stream",
     "text": [
      "\n",
      ">>> No inverted polarity was detected in EOGs <<<\n",
      "\n",
      "Saving informations from EOG inverted polarity channels to:\n",
      "C:\\Users\\yvan.nedelec\\OneDrive - ICM\\Documents\\RE_yvan\\projects\\ICEBERG\\PSG/summary/EOG_inverted_polarity_edf.tsv \n",
      "(will be empty if no inverted polarity)\n"
     ]
    }
   ],
   "source": [
    "# select rows where the physical min is greater than the physical max\n",
    "df_inv = df_eog[df_eog['physical_min'] > df_eog['physical_max']]\n",
    "\n",
    "if not df_inv.empty:\n",
    "    print('\\n>>> Inverted polarity detected in EOGs! <<<')\n",
    "    print(f'{df_inv.shape[0]} EOGs have an inverted polarity (from {df_eog.shape[0]} EOGs in {len(edf_files)} edf files)')\n",
    "    print(df_inv[['subject', 'channel', 'dimension', 'physical_min', 'physical_max']])\n",
    "else:\n",
    "    print('\\n>>> No inverted polarity was detected in EOGs <<<')\n",
    "df_inv.to_csv(f'{summary_path}/EOG_inverted_polarity_edf.tsv', sep = '\\t')\n",
    "print(f'\\nSaving informations from inverted polarity EOGs to:\\n{summary_path}/EOG_inverted_polarity_edf.tsv \\n(will be empty if no inverted polarity)')\n"
   ]
  },
  {
   "cell_type": "markdown",
   "id": "468e8713-eb68-4b0c-aa9c-75122905339b",
   "metadata": {
    "jp-MarkdownHeadingCollapsed": true
   },
   "source": [
    "### 5.7 Inspect EOG resolution"
   ]
  },
  {
   "cell_type": "code",
   "execution_count": 32,
   "id": "7f375f53-14ef-451a-9429-9e1a22f6dd8a",
   "metadata": {},
   "outputs": [
    {
     "data": {
      "application/vnd.jupyter.widget-view+json": {
       "model_id": "a65b9e165c05464484af038873804a81",
       "version_major": 2,
       "version_minor": 0
      },
      "text/plain": [
       "interactive(children=(BoundedFloatText(value=0.1, description='Resolution threshold (uV):', layout=Layout(widt…"
      ]
     },
     "metadata": {},
     "output_type": "display_data"
    }
   ],
   "source": [
    "# res_theo have been converted to uV, but if dimension was not read or not indicated in the headers, it might not work. I might need to add something more robust\n",
    "r_thres = widgets.BoundedFloatText(\n",
    "    value=0.1,\n",
    "    min=0,\n",
    "    max=10.0,\n",
    "    step=0.1,\n",
    "    style={'description_width': '150px'},  # augmente la largeur de la description\n",
    "    layout=widgets.Layout(width='230px'),   # ajuste la taille totale du widget si besoin\n",
    "    description='Resolution threshold (uV):',\n",
    "    disabled=False\n",
    ");\n",
    "\n",
    "# define a function to interact with the widget\n",
    "def check_bad_res(threshold):\n",
    "    r_mask = df_eog['res_theoretical'] >= threshold\n",
    "    bad_res = df_eog[r_mask]\n",
    "    \n",
    "    if not bad_res.empty:\n",
    "        print(f'\\n>>> Poor resolution detected in EOGs! (>= {threshold} uV) <<<')\n",
    "        print(f'{bad_res.shape[0]} EOGs have a very poor resolution (from {df_eog.shape[0]} EOGs in {len(edf_files)} edf files)')\n",
    "        print(bad_res[['subject', 'channel', 'dimension', 'physical_min', 'physical_max', 'res_theoretical']])\n",
    "    else:\n",
    "        print(f'\\n>>> No EOG with a poor resolution (>= {threshold} uV) was detected! <<<')\n",
    "    bad_res.to_csv(f'{summary_path}/EOG_bad_resolution_edf.tsv', sep = '\\t')\n",
    "    print(f'\\nSaving informations from bad resolution EOGs to:\\n{summary_path}/EOG_bad_resolution_edf.tsv \\n(will be empty if no bad resolution)')\n",
    "\n",
    "widgets.interact(check_bad_res, threshold=r_thres);"
   ]
  },
  {
   "cell_type": "markdown",
   "id": "a2096c3a-1f34-46ed-90d9-3a6505361380",
   "metadata": {
    "jp-MarkdownHeadingCollapsed": true
   },
   "source": [
    "### 5.8 Inspect EOG dynamic range"
   ]
  },
  {
   "cell_type": "code",
   "execution_count": 33,
   "id": "c5911760-c9bd-4026-930b-f1753f68d638",
   "metadata": {},
   "outputs": [
    {
     "data": {
      "application/vnd.jupyter.widget-view+json": {
       "model_id": "73aa2c2988264d9cb871beebb9ac813e",
       "version_major": 2,
       "version_minor": 0
      },
      "text/plain": [
       "interactive(children=(BoundedFloatText(value=400.0, description='Dynamic range threshold (uV):', layout=Layout…"
      ]
     },
     "metadata": {},
     "output_type": "display_data"
    }
   ],
   "source": [
    "dr_thres = widgets.BoundedFloatText(\n",
    "    value=400,\n",
    "    min=0,\n",
    "    max=5000,\n",
    "    step=0.1,\n",
    "    style={'description_width': '200px'},  # augmente la largeur de la description\n",
    "    layout=widgets.Layout(width='270px'),   # ajuste la taille totale du widget si besoin\n",
    "    description='Dynamic range threshold (uV):',\n",
    "    disabled=False\n",
    ");\n",
    "\n",
    "\n",
    "def check_bad_dr(threshold):\n",
    "    dr_mask = df_eog['res_theoretical']*pow(2,16) <= threshold\n",
    "    bad_dr = df_eog[dr_mask]\n",
    "    \n",
    "    if not bad_dr.empty:\n",
    "        print(f'\\n>>> Small dynamic range detected in EOGs! (<= {threshold} uV) <<<\\n')\n",
    "        print(f'{bad_dr.shape[0]} EOGs have a small dynamic range (from {df_eog.shape[0]} EOGs in {len(edf_files)} edf files)')\n",
    "        print(bad_dr[['subject', 'channel', 'dimension', 'physical_min', 'physical_max', 'res_theoretical']])\n",
    "    else:\n",
    "        print(f'\\n>>> No EOG with a small dynamic range(<= {threshold} uV) was detected! <<<')\n",
    "    bad_dr.to_csv(f'{summary_path}/EOG_bad_dynamic_range_edf.tsv', sep = '\\t')\n",
    "    print(f'\\nSaving informations from bad dynamic range EOGs to:\\n{summary_path}/EOG_bad_dynamic_range_edf.tsv \\n(will be empty if no bad resolution)')\n",
    "\n",
    "widgets.interact(check_bad_dr, threshold = dr_thres);"
   ]
  },
  {
   "cell_type": "markdown",
   "id": "949e34f1-9a8c-4301-93b5-6d956d6d4b31",
   "metadata": {},
   "source": [
    "## 6. Inspect ECG"
   ]
  },
  {
   "cell_type": "markdown",
   "id": "4be6965c-43c1-49f8-bddd-b2163a2c5660",
   "metadata": {
    "jp-MarkdownHeadingCollapsed": true
   },
   "source": [
    "### 6.1 Select only ECGs"
   ]
  },
  {
   "cell_type": "code",
   "execution_count": 35,
   "id": "5d3a29cd-f142-4360-8a3e-481130dbad59",
   "metadata": {},
   "outputs": [
    {
     "name": "stdout",
     "output_type": "stream",
     "text": [
      "\n",
      "Saving informations from ECG channels to:\n",
      "C:\\Users\\yvan.nedelec\\OneDrive - ICM\\Documents\\RE_yvan\\projects\\ICEBERG\\PSG/summary/ECG_summary_table.tsv\n"
     ]
    }
   ],
   "source": [
    "# select only ECGs and return a warning if the number of participant is smaller/higher\n",
    "mask_ecg = df_full['channel'].str.contains(r'ecg', case = False, na=False) # create a mask that returns true for lines containing either ecg in the channel column\n",
    "df_ecg = df_full[mask_ecg]\n",
    "\n",
    "# Check if the number of participants with only ECG is the same as df_full. \n",
    "# If not, it might be because the transducer type was no correctly detected. \n",
    "# One possibility is to add the type of transducer to the condition line 2 of this cell.\n",
    "if len(df_full['subject'].unique()) > len(df_ecg['subject'].unique()):\n",
    "    # identify missing subjects\n",
    "    missing_sub = set(df_full['subject'].unique()) - set(df_ecg['subject'].unique())\n",
    "    print('\\n!!! There is less participants in the dataset with only ECGs !!!')\n",
    "    print(f'Missing participants: {missing_sub}')\n",
    "    print(\"\\nEither these participants don't have ECGs.\")\n",
    "    print(\"Or the transducer type was not correctly detected.\")\n",
    "    # get df of missing sub to save and inspect\n",
    "    df_ecgmiss = df_full[df_full['subject'].isin(missing_sub)]\n",
    "    df_ecgmiss.to_csv(f'{summary_path}/ECG_missing_edf.tsv', sep = '\\t')\n",
    "    print(f'\\nSaving informations from missing participants to:\\n{summary_path}/ECG_missing_edf.tsv')\n",
    "    print('Please inspect the file, and specifically the column transducer_type')\n",
    "elif len(df_full['subject'].unique()) < len(df_ecg['subject'].unique()):\n",
    "    print('\\n!!! There is more participants in the dataset with only ECGs !!!')\n",
    "    print('This should not be the case.')\n",
    "    print('Please inspect what is happening in a code editor (spyder..), or ask Yvan.')\n",
    "    more_sub = set(df_ecg['subject'].unique()) - set(df_full['subject'].unique())\n",
    "    df_more = df_ecg[df_ecg['subject'].isin(more_sub)]\n",
    "    df_more.to_csv(f'{summary_path}/ECG_suspect_edf.csv', sep = '\\t')\n",
    "    print(f'\\nSaving informations from suspect participants to:\\n{summary_path}/ECG_suspect_edf.tsv')\n",
    "\n",
    "# saving info from ECG\n",
    "df_ecg.to_csv(f'{summary_path}/ECG_summary_table.tsv', sep = '\\t')\n",
    "print(f'\\nSaving informations from ECGs to:\\n{summary_path}/ECG_summary_table.tsv')"
   ]
  },
  {
   "cell_type": "markdown",
   "id": "30f3b1c6-3ba4-4b8a-b367-54dd4413bc06",
   "metadata": {
    "jp-MarkdownHeadingCollapsed": true
   },
   "source": [
    "### 6.2 Inspect ECG configurations"
   ]
  },
  {
   "cell_type": "code",
   "execution_count": 36,
   "id": "3f545a1a-0906-4242-8422-db886f991089",
   "metadata": {},
   "outputs": [
    {
     "name": "stdout",
     "output_type": "stream",
     "text": [
      "\n",
      ">>> There is multiple ECG configurations in your dataset! <<<\n",
      "\n",
      "\tNumber of different ECG configuration: 3\n",
      "\n"
     ]
    }
   ],
   "source": [
    "# get the ECGs configuration per participant \n",
    "ch_per_sub = df_ecg.groupby('subject')['channel'].apply(lambda x: tuple(sorted(set(x))))\n",
    "\n",
    "# identify the ECG configuration of each participant and store them in a dict to print per ECG config\n",
    "ch_config_dict = {}\n",
    "for config in ch_per_sub.unique():\n",
    "    sub = ch_per_sub[ch_per_sub == config].index.tolist()\n",
    "    ch_config_dict[config] = sub\n",
    "\n",
    "if len(ch_config_dict) > 1:\n",
    "    print('\\n>>> There is multiple ECG configurations in your dataset! <<<')    \n",
    "    print(f'\\n\\tNumber of different ECG configuration: {len(ch_config_dict)}\\n')\n",
    "else:\n",
    "    print('\\n>>> There is only one ECG configuration in your dataset! <<<')\n",
    "\n",
    "# # print info per channel configuaration\n",
    "# for i, (config, participants) in enumerate(ch_config_dict.items(), 1):\n",
    "#     print(f'Configuration #{i} ({len(participants)} participants):')\n",
    "#     print(f'Channels ({len(config)}) : {config}\\n')"
   ]
  },
  {
   "cell_type": "code",
   "execution_count": 37,
   "id": "aaf05caa-f3b6-47e4-a470-3ef7cf439efa",
   "metadata": {},
   "outputs": [
    {
     "data": {
      "application/vnd.jupyter.widget-view+json": {
       "model_id": "747138d30d3e422f88971c697d99e704",
       "version_major": 2,
       "version_minor": 0
      },
      "text/plain": [
       "interactive(children=(IntSlider(value=1, continuous_update=False, description='Selected configuration:', layou…"
      ]
     },
     "metadata": {},
     "output_type": "display_data"
    }
   ],
   "source": [
    "# widget to select the configuration of interest\n",
    "config_ch_slider = mk_config_slider(value = 1, min = 1, max = len(ch_config_dict))\n",
    "\n",
    "# print the configuration selected\n",
    "# interact with the slider output through the printing function \n",
    "widgets.interact(lambda i: print_config(i, config_dict=ch_config_dict, param=\"Channels\"), i=config_ch_slider);"
   ]
  },
  {
   "cell_type": "markdown",
   "id": "8e622e81-547c-4c3e-9833-e5ee79c3eee2",
   "metadata": {
    "jp-MarkdownHeadingCollapsed": true
   },
   "source": [
    "### 6.3 Inspect ECG sampling frequencies"
   ]
  },
  {
   "cell_type": "code",
   "execution_count": 38,
   "id": "ee52a436-092d-40fa-b677-1eb011a4cda6",
   "metadata": {},
   "outputs": [
    {
     "name": "stdout",
     "output_type": "stream",
     "text": [
      "\n",
      ">>> There is multiple sampling frequency for ECGs in your dataset! <<<\n",
      "\n",
      "\tNumber of different sampling frequency configuration: 3\n",
      "\n",
      "Quick overlook of the ECGs associated to sampling frequencies:\n",
      "\n",
      "256 Hz: ['ECG' 'ECG 1' 'ECG 2']\n",
      "\n",
      "128 Hz: ['ECG 1' 'ECG 2']\n",
      "\n",
      "400 Hz: ['ECG']\n"
     ]
    }
   ],
   "source": [
    "# the sampling frequency configuration\n",
    "sf_per_sub = df_ecg.groupby('subject')['sampling_frequency'].apply(lambda x: tuple(sorted(set(x))))\n",
    "# identify the sampling frequency configuration of each participant and store them in a dict to print per sampling configuration config\n",
    "sf_config_dict = {}\n",
    "for config in sf_per_sub.unique():\n",
    "    sub = sf_per_sub[sf_per_sub == config].index.tolist()\n",
    "    sf_config_dict[config] = sub\n",
    "\n",
    "# print info per sf configuration (maybe print it only for multiple config)\n",
    "if len(sf_config_dict) > 1:\n",
    "    print('\\n>>> There is multiple sampling frequency for ECGs in your dataset! <<<')    \n",
    "    print(f'\\n\\tNumber of different sampling frequency configuration: {len(sf_config_dict)}\\n')\n",
    "    print('Quick overlook of the ECGs associated to sampling frequencies:')\n",
    "    for s, sf in enumerate(df_ecg['sampling_frequency'].unique()):\n",
    "        # select only rows with the current sf\n",
    "        df_sf = df_ecg[df_ecg['sampling_frequency'] == sf].copy()\n",
    "        print(f'\\n{sf} Hz: {df_sf[\"channel\"].unique()}')\n",
    "else:\n",
    "    print(f'\\n>>> There is only one sampling frequency for ECGs in your dataset: {df_ecg['sampling_frequency'].unique()} <<<')\n",
    "\n",
    "# print('\\nSampling frequency configurations:\\n')\n",
    "# for i, (config, participants) in enumerate(sf_config_dict.items(), 1):\n",
    "#     print(f'Configuration #{i} ({len(participants)} participants):')\n",
    "#     print(f'Sampling frequency ({len(config)}) : {config}\\n')"
   ]
  },
  {
   "cell_type": "code",
   "execution_count": 39,
   "id": "c7365d9b-95cf-40e9-b6b2-2c8bb80836fa",
   "metadata": {},
   "outputs": [
    {
     "data": {
      "application/vnd.jupyter.widget-view+json": {
       "model_id": "3ddc94f07aa14257b6213d5714f0fa51",
       "version_major": 2,
       "version_minor": 0
      },
      "text/plain": [
       "interactive(children=(IntSlider(value=1, continuous_update=False, description='Selected configuration:', layou…"
      ]
     },
     "metadata": {},
     "output_type": "display_data"
    }
   ],
   "source": [
    "# widget to select the configuration of interest\n",
    "config_sf_slider = mk_config_slider(value = 1, min = 1, max = len(sf_config_dict))\n",
    "\n",
    "# print the configuration selected\n",
    "# interact with the slider output through the printing function \n",
    "widgets.interact(lambda i: print_config(i, config_dict=sf_config_dict, param=\"Sampling frequencies\"), i=config_sf_slider);"
   ]
  },
  {
   "cell_type": "markdown",
   "id": "fa6aabf4-0bff-497c-b3f2-6ea68966bf76",
   "metadata": {
    "jp-MarkdownHeadingCollapsed": true
   },
   "source": [
    "### 6.4 Inspect ECG filtering parameters"
   ]
  },
  {
   "cell_type": "code",
   "execution_count": 40,
   "id": "2353a752-9e29-4f05-beae-e6b08ccb82e9",
   "metadata": {},
   "outputs": [
    {
     "name": "stdout",
     "output_type": "stream",
     "text": [
      "\n",
      ">>> Filtering parameters are not fully consistent across the dataset! <<<\n",
      "\n",
      "\tNumber of different ECG filters configurations: 3\n",
      "\n"
     ]
    }
   ],
   "source": [
    "if len(df_ecg['highpass'].unique())+len(df_ecg['lowpass'].unique())+len(df_ecg['notch'].unique()) == 3:\n",
    "    print('\\n>>> All ECGs have the same filtering parameters! <<<')\n",
    "elif len(df_ecg['highpass'].unique())+len(df_ecg['lowpass'].unique())+len(df_ecg['notch'].unique()) > 3:\n",
    "    print('\\n>>> Filtering parameters are not fully consistent across the dataset! <<<')\n",
    "else:\n",
    "    print('\\n>>> There may have been a problem in reading the filtering parameters. Here is the output: <<<')\n",
    "\n",
    "# Get the list of participants with different filtering parameters\n",
    "# 1st replace NaN because groupby does not like NaN\n",
    "df_filt = df_ecg.copy()\n",
    "df_filt[['lowpass', 'highpass', 'notch']] = df_filt[['lowpass', 'highpass', 'notch']].fillna('missing')\n",
    "\n",
    "config_filters = (\n",
    "    df_filt.groupby(['lowpass', 'highpass', 'notch'])['subject']\n",
    "    .apply(lambda x: sorted(set(x)))\n",
    "    .reset_index(name = 'subjects')\n",
    ")\n",
    "\n",
    "# print filter configuration\n",
    "print(f'\\n\\tNumber of different ECG filters configurations: {len(config_filters)}\\n')\n",
    "# print('\\nFilters configurations: ')\n",
    "# r=1\n",
    "# for row in config_filters.itertuples(index=False):\n",
    "#     print(f'Configuration #{r} ({len(row.subjects)} participants)')\n",
    "#     print(f'highpass: {row.highpass}, lowpass: {row.lowpass}, notch: {row.notch}\\n')\n",
    "#     r=r+1"
   ]
  },
  {
   "cell_type": "code",
   "execution_count": 41,
   "id": "3a5f67fb-fbd8-4931-9ee1-07688b6d8eca",
   "metadata": {},
   "outputs": [
    {
     "data": {
      "application/vnd.jupyter.widget-view+json": {
       "model_id": "19a857a4cba546c48f9c7448c038d491",
       "version_major": 2,
       "version_minor": 0
      },
      "text/plain": [
       "interactive(children=(IntSlider(value=1, continuous_update=False, description='Selected configuration:', layou…"
      ]
     },
     "metadata": {},
     "output_type": "display_data"
    }
   ],
   "source": [
    "# widget to select the configuration of interest\n",
    "config_filter_slider = mk_config_slider(value = 1, min = 1, max = len(config_filters))\n",
    "\n",
    "# function to rpint filters configurations\n",
    "def print_filters(config_slider):\n",
    "    # get the info from the dataframe\n",
    "    idx = config_slider - 1\n",
    "    sID = config_filters.iloc[idx]['subjects']\n",
    "    hpass = config_filters.iloc[idx]['highpass']\n",
    "    lpass = config_filters.iloc[idx]['lowpass']\n",
    "    notch = config_filters.iloc[idx]['notch']\n",
    "    \n",
    "    # print info\n",
    "    print(f'Selected configuration: # {config_slider}')\n",
    "    print(f'\\tFilters configuration: highpass: {hpass}; lowpass: {lpass}; notch: {notch}')\n",
    "    print(f'\\t{len(sID)} participants: {sID}')\n",
    "\n",
    "widgets.interact(print_filters, config_slider = config_filter_slider);"
   ]
  },
  {
   "cell_type": "markdown",
   "id": "21a73596-3052-4332-a608-9e594331d3d7",
   "metadata": {
    "jp-MarkdownHeadingCollapsed": true
   },
   "source": [
    "### 6.5 Inspect ECG units"
   ]
  },
  {
   "cell_type": "code",
   "execution_count": 42,
   "id": "af19ed48-d5e8-4f71-9526-753137853b21",
   "metadata": {},
   "outputs": [
    {
     "name": "stdout",
     "output_type": "stream",
     "text": [
      "\n",
      ">>> Multiple units were found! <<<\n",
      "\n",
      "\tNumber of different units configurations: 2\n",
      "\n",
      "Quick overlook of channels associated to units:\n",
      "\n",
      "mV: ['ECG' 'ECG 1' 'ECG 2']\n",
      "\n",
      "MV: ['ECG']\n"
     ]
    }
   ],
   "source": [
    "if len(df_ecg['dimension'].unique()) == 1:\n",
    "    print(f'\\n>>> All ECGs have the same unit: {df_ecg[\"dimension\"].unique()} <<<\\n')\n",
    "elif len(df_ecg['dimension'].unique()) > 1:\n",
    "    print('\\n>>> Multiple units were found for ECGs! <<<')\n",
    "    print(f'\\n\\tNumber of different units configurations: {len(df_ecg['dimension'].unique())}\\n')\n",
    "    print('Quick overlook of ECGs associated to units:')\n",
    "    for u, unit in enumerate(df_ecg['dimension'].unique()):\n",
    "        # select only rows with the current sf\n",
    "        df_unit = df_ecg[df_ecg['dimension'] == unit].copy()\n",
    "        print(f'\\n{unit}: {df_unit[\"channel\"].unique()}')\n",
    "    \n",
    "\n",
    "# print the different configuration of units \n",
    "# if info about sf configuration is needed\n",
    "unit_per_sub = df_ecg.groupby('subject')['dimension'].apply(lambda x: tuple(sorted(set(x))))\n",
    "ch_per_unit = df_ecg.groupby('dimension')['channel'].apply(lambda x: tuple(sorted(set(x))))\n",
    "# identify the sampling frequency configuration of each participant and store them in a dict to print per sampling configuration config\n",
    "unit_config_dict = {}\n",
    "for config in unit_per_sub.unique():\n",
    "    sub = unit_per_sub[unit_per_sub == config].index.tolist()\n",
    "    unit_config_dict[config] = sub\n",
    "\n",
    "# print info per sf configuration\n",
    "# print('\\nUnits configurations:')\n",
    "# for i, (config, participants) in enumerate(unit_config_dict.items(), 1):\n",
    "#     print(f'Configuration #{i} ({len(participants)} participants):')\n",
    "#     print(f'Unit ({len(config)}) : {config}\\n')\n",
    "#     # print(f\"Participants : {participants}\\n\")"
   ]
  },
  {
   "cell_type": "code",
   "execution_count": 43,
   "id": "8e61ee8a-9dcc-4bf2-8368-2139f4cd0636",
   "metadata": {},
   "outputs": [
    {
     "data": {
      "application/vnd.jupyter.widget-view+json": {
       "model_id": "d1bce145a41542f1a158e25cd249531a",
       "version_major": 2,
       "version_minor": 0
      },
      "text/plain": [
       "interactive(children=(IntSlider(value=1, continuous_update=False, description='Selected configuration:', layou…"
      ]
     },
     "metadata": {},
     "output_type": "display_data"
    }
   ],
   "source": [
    "# widget to select the configuration of interest\n",
    "config_unit_slider = mk_config_slider(value = 1, min = 1, max = len(unit_config_dict))\n",
    "\n",
    "# print the configuration selected\n",
    "# interact with the slider output through the printing function \n",
    "widgets.interact(lambda i: print_config(i, config_dict=unit_config_dict, param=\"Units\"), i=config_unit_slider);"
   ]
  },
  {
   "cell_type": "markdown",
   "id": "b079ce64-f923-4327-9798-fc00749a6bd4",
   "metadata": {
    "jp-MarkdownHeadingCollapsed": true
   },
   "source": [
    "### 6.6 Inspect ECG signal inversion"
   ]
  },
  {
   "cell_type": "code",
   "execution_count": 45,
   "id": "7d9d7cf6-35d4-4bf8-a0c6-1a23150521b6",
   "metadata": {},
   "outputs": [
    {
     "name": "stdout",
     "output_type": "stream",
     "text": [
      "\n",
      ">>> No inverted polarity was detected in ECGs <<<\n",
      "\n",
      "Saving informations from ECG inverted polarity channels to:\n",
      "C:\\Users\\yvan.nedelec\\OneDrive - ICM\\Documents\\RE_yvan\\projects\\ICEBERG\\PSG/summary/ECG_inverted_polarity_edf.tsv \n",
      "(will be empty if no inverted polarity)\n"
     ]
    }
   ],
   "source": [
    "# select rows where the physical min is greater than the physical max\n",
    "df_inv = df_ecg[df_ecg['physical_min'] > df_ecg['physical_max']]\n",
    "\n",
    "if not df_inv.empty:\n",
    "    print('\\n>>> Inverted polarity detected in ECGs! <<<')\n",
    "    print(f'{df_inv.shape[0]} ECGs have an inverted polarity (from {df_ecg.shape[0]} ECGs in {len(edf_files)} edf files)')\n",
    "    print(df_inv[['subject', 'channel', 'dimension', 'physical_min', 'physical_max']])\n",
    "else:\n",
    "    print('\\n>>> No inverted polarity was detected in ECGs <<<')\n",
    "df_inv.to_csv(f'{summary_path}/ECG_inverted_polarity_edf.tsv', sep = '\\t')\n",
    "print(f'\\nSaving informations from inverted polarity ECGs to:\\n{summary_path}/ECG_inverted_polarity_edf.tsv \\n(will be empty if no inverted polarity)')\n"
   ]
  },
  {
   "cell_type": "markdown",
   "id": "fbcd9c6f-5420-4013-bf02-6a0995c597f0",
   "metadata": {
    "jp-MarkdownHeadingCollapsed": true
   },
   "source": [
    "### 6.7 Inspect ECG resolution"
   ]
  },
  {
   "cell_type": "code",
   "execution_count": 46,
   "id": "96fa2a9b-abdb-4e9f-8fb2-dddf92280539",
   "metadata": {},
   "outputs": [
    {
     "data": {
      "application/vnd.jupyter.widget-view+json": {
       "model_id": "6b8c40e8e6f242bf8ed7ada20ccbbfdb",
       "version_major": 2,
       "version_minor": 0
      },
      "text/plain": [
       "interactive(children=(BoundedFloatText(value=0.1, description='Resolution threshold (uV):', layout=Layout(widt…"
      ]
     },
     "metadata": {},
     "output_type": "display_data"
    }
   ],
   "source": [
    "# res_theo have been converted to uV, but if dimension was not read or not indicated in the headers, it might not work. I might need to add something more robust\n",
    "r_thres = widgets.BoundedFloatText(\n",
    "    value=0.1,\n",
    "    min=0,\n",
    "    max=10.0,\n",
    "    step=0.1,\n",
    "    style={'description_width': '150px'},  # augmente la largeur de la description\n",
    "    layout=widgets.Layout(width='230px'),   # ajuste la taille totale du widget si besoin\n",
    "    description='Resolution threshold (uV):',\n",
    "    disabled=False\n",
    ");\n",
    "\n",
    "# define a function to interact with the widget\n",
    "def check_bad_res(threshold):\n",
    "    r_mask = df_ecg['res_theoretical'] >= threshold\n",
    "    bad_res = df_ecg[r_mask]\n",
    "    \n",
    "    if not bad_res.empty:\n",
    "        print(f'\\n>>> Poor resolution detected in ECGs! (>= {threshold} uV) <<<')\n",
    "        print(f'{bad_res.shape[0]} ECGs have a very poor resolution (from {df_ecg.shape[0]} ecgs in {len(edf_files)} edf files)')\n",
    "        print(bad_res[['subject', 'channel', 'dimension', 'physical_min', 'physical_max', 'res_theoretical']])\n",
    "    else:\n",
    "        print(f'\\n>>> No ECG with a poor resolution (>= {threshold} uV) was detected! <<<')\n",
    "    bad_res.to_csv(f'{summary_path}/ECG_bad_resolution_edf.tsv', sep = '\\t')\n",
    "    print(f'\\nSaving informations from bad resolution ECGs to:\\n{summary_path}/ECG_bad_resolution_edf.tsv \\n(will be empty if no bad resolution)')\n",
    "\n",
    "widgets.interact(check_bad_res, threshold=r_thres);"
   ]
  },
  {
   "cell_type": "markdown",
   "id": "2c9047e4-c030-4c44-92de-a1b6f948ed99",
   "metadata": {
    "jp-MarkdownHeadingCollapsed": true
   },
   "source": [
    "### 6.8 Inspect ECG dynamic range"
   ]
  },
  {
   "cell_type": "code",
   "execution_count": 47,
   "id": "d1f97f77-0476-4ff4-83ee-c6cdea87a33d",
   "metadata": {},
   "outputs": [
    {
     "data": {
      "application/vnd.jupyter.widget-view+json": {
       "model_id": "e078568591b048e19d33a34a4c21f270",
       "version_major": 2,
       "version_minor": 0
      },
      "text/plain": [
       "interactive(children=(BoundedFloatText(value=400.0, description='Dynamic range threshold (uV):', layout=Layout…"
      ]
     },
     "metadata": {},
     "output_type": "display_data"
    }
   ],
   "source": [
    "dr_thres = widgets.BoundedFloatText(\n",
    "    value=400,\n",
    "    min=0,\n",
    "    max=5000,\n",
    "    step=0.1,\n",
    "    style={'description_width': '200px'},  # augmente la largeur de la description\n",
    "    layout=widgets.Layout(width='270px'),   # ajuste la taille totale du widget si besoin\n",
    "    description='Dynamic range threshold (uV):',\n",
    "    disabled=False\n",
    ");\n",
    "\n",
    "\n",
    "def check_bad_dr(threshold):\n",
    "    dr_mask = df_ecg['res_theoretical']*pow(2,16) <= threshold\n",
    "    bad_dr = df_ecg[dr_mask]\n",
    "    \n",
    "    if not bad_dr.empty:\n",
    "        print(f'\\n>>> Small dynamic range detected in ECGs! (<= {threshold} uV) <<<\\n')\n",
    "        print(f'{bad_dr.shape[0]} ECGs have a small dynamic range (from {df_ecg.shape[0]} ECGs in {len(edf_files)} edf files)')\n",
    "        print(bad_dr[['subject', 'channel', 'dimension', 'physical_min', 'physical_max', 'res_theoretical']])\n",
    "    else:\n",
    "        print(f'\\n>>> No ECG with a small dynamic range(<= {threshold} uV) was detected! <<<')\n",
    "    bad_dr.to_csv(f'{summary_path}/ECG_bad_dynamic_range_edf.tsv', sep = '\\t')\n",
    "    print(f'\\nSaving informations from bad dynamic range ECGs to:\\n{summary_path}/ECG_bad_dynamic_range_edf.tsv \\n(will be empty if no bad resolution)')\n",
    "\n",
    "widgets.interact(check_bad_dr, threshold = dr_thres);"
   ]
  }
 ],
 "metadata": {
  "kernelspec": {
   "display_name": "Python 3 (ipykernel)",
   "language": "python",
   "name": "python3"
  },
  "language_info": {
   "codemirror_mode": {
    "name": "ipython",
    "version": 3
   },
   "file_extension": ".py",
   "mimetype": "text/x-python",
   "name": "python",
   "nbconvert_exporter": "python",
   "pygments_lexer": "ipython3",
   "version": "3.12.10"
  }
 },
 "nbformat": 4,
 "nbformat_minor": 5
}
